{
 "cells": [
  {
   "cell_type": "code",
   "execution_count": 1,
   "metadata": {},
   "outputs": [],
   "source": [
    "import pandas as pd"
   ]
  },
  {
   "cell_type": "code",
   "execution_count": 2,
   "metadata": {},
   "outputs": [],
   "source": [
    "data = pd.read_csv(r'C:\\Users\\mahe\\Desktop\\Task 1\\Mall_Customers.csv')"
   ]
  },
  {
   "cell_type": "code",
   "execution_count": 3,
   "metadata": {},
   "outputs": [
    {
     "data": {
      "text/html": [
       "<div>\n",
       "<style scoped>\n",
       "    .dataframe tbody tr th:only-of-type {\n",
       "        vertical-align: middle;\n",
       "    }\n",
       "\n",
       "    .dataframe tbody tr th {\n",
       "        vertical-align: top;\n",
       "    }\n",
       "\n",
       "    .dataframe thead th {\n",
       "        text-align: right;\n",
       "    }\n",
       "</style>\n",
       "<table border=\"1\" class=\"dataframe\">\n",
       "  <thead>\n",
       "    <tr style=\"text-align: right;\">\n",
       "      <th></th>\n",
       "      <th>CustomerID</th>\n",
       "      <th>Gender</th>\n",
       "      <th>Age</th>\n",
       "      <th>Annual Income (k$)</th>\n",
       "      <th>Spending Score (1-100)</th>\n",
       "    </tr>\n",
       "  </thead>\n",
       "  <tbody>\n",
       "    <tr>\n",
       "      <th>0</th>\n",
       "      <td>1</td>\n",
       "      <td>Male</td>\n",
       "      <td>19</td>\n",
       "      <td>15</td>\n",
       "      <td>39</td>\n",
       "    </tr>\n",
       "    <tr>\n",
       "      <th>1</th>\n",
       "      <td>2</td>\n",
       "      <td>Male</td>\n",
       "      <td>21</td>\n",
       "      <td>15</td>\n",
       "      <td>81</td>\n",
       "    </tr>\n",
       "    <tr>\n",
       "      <th>2</th>\n",
       "      <td>3</td>\n",
       "      <td>Female</td>\n",
       "      <td>20</td>\n",
       "      <td>16</td>\n",
       "      <td>6</td>\n",
       "    </tr>\n",
       "    <tr>\n",
       "      <th>3</th>\n",
       "      <td>4</td>\n",
       "      <td>Female</td>\n",
       "      <td>23</td>\n",
       "      <td>16</td>\n",
       "      <td>77</td>\n",
       "    </tr>\n",
       "    <tr>\n",
       "      <th>4</th>\n",
       "      <td>5</td>\n",
       "      <td>Female</td>\n",
       "      <td>31</td>\n",
       "      <td>17</td>\n",
       "      <td>40</td>\n",
       "    </tr>\n",
       "    <tr>\n",
       "      <th>5</th>\n",
       "      <td>6</td>\n",
       "      <td>Female</td>\n",
       "      <td>22</td>\n",
       "      <td>17</td>\n",
       "      <td>76</td>\n",
       "    </tr>\n",
       "    <tr>\n",
       "      <th>6</th>\n",
       "      <td>7</td>\n",
       "      <td>Female</td>\n",
       "      <td>35</td>\n",
       "      <td>18</td>\n",
       "      <td>6</td>\n",
       "    </tr>\n",
       "    <tr>\n",
       "      <th>7</th>\n",
       "      <td>8</td>\n",
       "      <td>Female</td>\n",
       "      <td>23</td>\n",
       "      <td>18</td>\n",
       "      <td>94</td>\n",
       "    </tr>\n",
       "    <tr>\n",
       "      <th>8</th>\n",
       "      <td>9</td>\n",
       "      <td>Male</td>\n",
       "      <td>64</td>\n",
       "      <td>19</td>\n",
       "      <td>3</td>\n",
       "    </tr>\n",
       "    <tr>\n",
       "      <th>9</th>\n",
       "      <td>10</td>\n",
       "      <td>Female</td>\n",
       "      <td>30</td>\n",
       "      <td>19</td>\n",
       "      <td>72</td>\n",
       "    </tr>\n",
       "  </tbody>\n",
       "</table>\n",
       "</div>"
      ],
      "text/plain": [
       "   CustomerID  Gender  Age  Annual Income (k$)  Spending Score (1-100)\n",
       "0           1    Male   19                  15                      39\n",
       "1           2    Male   21                  15                      81\n",
       "2           3  Female   20                  16                       6\n",
       "3           4  Female   23                  16                      77\n",
       "4           5  Female   31                  17                      40\n",
       "5           6  Female   22                  17                      76\n",
       "6           7  Female   35                  18                       6\n",
       "7           8  Female   23                  18                      94\n",
       "8           9    Male   64                  19                       3\n",
       "9          10  Female   30                  19                      72"
      ]
     },
     "execution_count": 3,
     "metadata": {},
     "output_type": "execute_result"
    }
   ],
   "source": [
    "data.head(10)"
   ]
  },
  {
   "cell_type": "code",
   "execution_count": 5,
   "metadata": {},
   "outputs": [],
   "source": [
    "from sklearn.preprocessing import LabelEncoder"
   ]
  },
  {
   "cell_type": "code",
   "execution_count": 6,
   "metadata": {},
   "outputs": [],
   "source": [
    "le = LabelEncoder()"
   ]
  },
  {
   "cell_type": "code",
   "execution_count": 7,
   "metadata": {},
   "outputs": [],
   "source": [
    "data['Gender'] = le.fit_transform(data['Gender'])"
   ]
  },
  {
   "cell_type": "code",
   "execution_count": 8,
   "metadata": {},
   "outputs": [
    {
     "data": {
      "text/html": [
       "<div>\n",
       "<style scoped>\n",
       "    .dataframe tbody tr th:only-of-type {\n",
       "        vertical-align: middle;\n",
       "    }\n",
       "\n",
       "    .dataframe tbody tr th {\n",
       "        vertical-align: top;\n",
       "    }\n",
       "\n",
       "    .dataframe thead th {\n",
       "        text-align: right;\n",
       "    }\n",
       "</style>\n",
       "<table border=\"1\" class=\"dataframe\">\n",
       "  <thead>\n",
       "    <tr style=\"text-align: right;\">\n",
       "      <th></th>\n",
       "      <th>CustomerID</th>\n",
       "      <th>Gender</th>\n",
       "      <th>Age</th>\n",
       "      <th>Annual Income (k$)</th>\n",
       "      <th>Spending Score (1-100)</th>\n",
       "    </tr>\n",
       "  </thead>\n",
       "  <tbody>\n",
       "    <tr>\n",
       "      <th>0</th>\n",
       "      <td>1</td>\n",
       "      <td>1</td>\n",
       "      <td>19</td>\n",
       "      <td>15</td>\n",
       "      <td>39</td>\n",
       "    </tr>\n",
       "    <tr>\n",
       "      <th>1</th>\n",
       "      <td>2</td>\n",
       "      <td>1</td>\n",
       "      <td>21</td>\n",
       "      <td>15</td>\n",
       "      <td>81</td>\n",
       "    </tr>\n",
       "    <tr>\n",
       "      <th>2</th>\n",
       "      <td>3</td>\n",
       "      <td>0</td>\n",
       "      <td>20</td>\n",
       "      <td>16</td>\n",
       "      <td>6</td>\n",
       "    </tr>\n",
       "    <tr>\n",
       "      <th>3</th>\n",
       "      <td>4</td>\n",
       "      <td>0</td>\n",
       "      <td>23</td>\n",
       "      <td>16</td>\n",
       "      <td>77</td>\n",
       "    </tr>\n",
       "    <tr>\n",
       "      <th>4</th>\n",
       "      <td>5</td>\n",
       "      <td>0</td>\n",
       "      <td>31</td>\n",
       "      <td>17</td>\n",
       "      <td>40</td>\n",
       "    </tr>\n",
       "    <tr>\n",
       "      <th>...</th>\n",
       "      <td>...</td>\n",
       "      <td>...</td>\n",
       "      <td>...</td>\n",
       "      <td>...</td>\n",
       "      <td>...</td>\n",
       "    </tr>\n",
       "    <tr>\n",
       "      <th>195</th>\n",
       "      <td>196</td>\n",
       "      <td>0</td>\n",
       "      <td>35</td>\n",
       "      <td>120</td>\n",
       "      <td>79</td>\n",
       "    </tr>\n",
       "    <tr>\n",
       "      <th>196</th>\n",
       "      <td>197</td>\n",
       "      <td>0</td>\n",
       "      <td>45</td>\n",
       "      <td>126</td>\n",
       "      <td>28</td>\n",
       "    </tr>\n",
       "    <tr>\n",
       "      <th>197</th>\n",
       "      <td>198</td>\n",
       "      <td>1</td>\n",
       "      <td>32</td>\n",
       "      <td>126</td>\n",
       "      <td>74</td>\n",
       "    </tr>\n",
       "    <tr>\n",
       "      <th>198</th>\n",
       "      <td>199</td>\n",
       "      <td>1</td>\n",
       "      <td>32</td>\n",
       "      <td>137</td>\n",
       "      <td>18</td>\n",
       "    </tr>\n",
       "    <tr>\n",
       "      <th>199</th>\n",
       "      <td>200</td>\n",
       "      <td>1</td>\n",
       "      <td>30</td>\n",
       "      <td>137</td>\n",
       "      <td>83</td>\n",
       "    </tr>\n",
       "  </tbody>\n",
       "</table>\n",
       "<p>200 rows × 5 columns</p>\n",
       "</div>"
      ],
      "text/plain": [
       "     CustomerID  Gender  Age  Annual Income (k$)  Spending Score (1-100)\n",
       "0             1       1   19                  15                      39\n",
       "1             2       1   21                  15                      81\n",
       "2             3       0   20                  16                       6\n",
       "3             4       0   23                  16                      77\n",
       "4             5       0   31                  17                      40\n",
       "..          ...     ...  ...                 ...                     ...\n",
       "195         196       0   35                 120                      79\n",
       "196         197       0   45                 126                      28\n",
       "197         198       1   32                 126                      74\n",
       "198         199       1   32                 137                      18\n",
       "199         200       1   30                 137                      83\n",
       "\n",
       "[200 rows x 5 columns]"
      ]
     },
     "execution_count": 8,
     "metadata": {},
     "output_type": "execute_result"
    }
   ],
   "source": [
    "data"
   ]
  },
  {
   "cell_type": "code",
   "execution_count": 32,
   "metadata": {},
   "outputs": [],
   "source": [
    "x = data.iloc[:,[1,2,3]].values"
   ]
  },
  {
   "cell_type": "code",
   "execution_count": 33,
   "metadata": {},
   "outputs": [
    {
     "data": {
      "text/plain": [
       "array([[  1,  19,  15],\n",
       "       [  1,  21,  15],\n",
       "       [  0,  20,  16],\n",
       "       [  0,  23,  16],\n",
       "       [  0,  31,  17],\n",
       "       [  0,  22,  17],\n",
       "       [  0,  35,  18],\n",
       "       [  0,  23,  18],\n",
       "       [  1,  64,  19],\n",
       "       [  0,  30,  19],\n",
       "       [  1,  67,  19],\n",
       "       [  0,  35,  19],\n",
       "       [  0,  58,  20],\n",
       "       [  0,  24,  20],\n",
       "       [  1,  37,  20],\n",
       "       [  1,  22,  20],\n",
       "       [  0,  35,  21],\n",
       "       [  1,  20,  21],\n",
       "       [  1,  52,  23],\n",
       "       [  0,  35,  23],\n",
       "       [  1,  35,  24],\n",
       "       [  1,  25,  24],\n",
       "       [  0,  46,  25],\n",
       "       [  1,  31,  25],\n",
       "       [  0,  54,  28],\n",
       "       [  1,  29,  28],\n",
       "       [  0,  45,  28],\n",
       "       [  1,  35,  28],\n",
       "       [  0,  40,  29],\n",
       "       [  0,  23,  29],\n",
       "       [  1,  60,  30],\n",
       "       [  0,  21,  30],\n",
       "       [  1,  53,  33],\n",
       "       [  1,  18,  33],\n",
       "       [  0,  49,  33],\n",
       "       [  0,  21,  33],\n",
       "       [  0,  42,  34],\n",
       "       [  0,  30,  34],\n",
       "       [  0,  36,  37],\n",
       "       [  0,  20,  37],\n",
       "       [  0,  65,  38],\n",
       "       [  1,  24,  38],\n",
       "       [  1,  48,  39],\n",
       "       [  0,  31,  39],\n",
       "       [  0,  49,  39],\n",
       "       [  0,  24,  39],\n",
       "       [  0,  50,  40],\n",
       "       [  0,  27,  40],\n",
       "       [  0,  29,  40],\n",
       "       [  0,  31,  40],\n",
       "       [  0,  49,  42],\n",
       "       [  1,  33,  42],\n",
       "       [  0,  31,  43],\n",
       "       [  1,  59,  43],\n",
       "       [  0,  50,  43],\n",
       "       [  1,  47,  43],\n",
       "       [  0,  51,  44],\n",
       "       [  1,  69,  44],\n",
       "       [  0,  27,  46],\n",
       "       [  1,  53,  46],\n",
       "       [  1,  70,  46],\n",
       "       [  1,  19,  46],\n",
       "       [  0,  67,  47],\n",
       "       [  0,  54,  47],\n",
       "       [  1,  63,  48],\n",
       "       [  1,  18,  48],\n",
       "       [  0,  43,  48],\n",
       "       [  0,  68,  48],\n",
       "       [  1,  19,  48],\n",
       "       [  0,  32,  48],\n",
       "       [  1,  70,  49],\n",
       "       [  0,  47,  49],\n",
       "       [  0,  60,  50],\n",
       "       [  0,  60,  50],\n",
       "       [  1,  59,  54],\n",
       "       [  1,  26,  54],\n",
       "       [  0,  45,  54],\n",
       "       [  1,  40,  54],\n",
       "       [  0,  23,  54],\n",
       "       [  0,  49,  54],\n",
       "       [  1,  57,  54],\n",
       "       [  1,  38,  54],\n",
       "       [  1,  67,  54],\n",
       "       [  0,  46,  54],\n",
       "       [  0,  21,  54],\n",
       "       [  1,  48,  54],\n",
       "       [  0,  55,  57],\n",
       "       [  0,  22,  57],\n",
       "       [  0,  34,  58],\n",
       "       [  0,  50,  58],\n",
       "       [  0,  68,  59],\n",
       "       [  1,  18,  59],\n",
       "       [  1,  48,  60],\n",
       "       [  0,  40,  60],\n",
       "       [  0,  32,  60],\n",
       "       [  1,  24,  60],\n",
       "       [  0,  47,  60],\n",
       "       [  0,  27,  60],\n",
       "       [  1,  48,  61],\n",
       "       [  1,  20,  61],\n",
       "       [  0,  23,  62],\n",
       "       [  0,  49,  62],\n",
       "       [  1,  67,  62],\n",
       "       [  1,  26,  62],\n",
       "       [  1,  49,  62],\n",
       "       [  0,  21,  62],\n",
       "       [  0,  66,  63],\n",
       "       [  1,  54,  63],\n",
       "       [  1,  68,  63],\n",
       "       [  1,  66,  63],\n",
       "       [  1,  65,  63],\n",
       "       [  0,  19,  63],\n",
       "       [  0,  38,  64],\n",
       "       [  1,  19,  64],\n",
       "       [  0,  18,  65],\n",
       "       [  0,  19,  65],\n",
       "       [  0,  63,  65],\n",
       "       [  0,  49,  65],\n",
       "       [  0,  51,  67],\n",
       "       [  0,  50,  67],\n",
       "       [  1,  27,  67],\n",
       "       [  0,  38,  67],\n",
       "       [  0,  40,  69],\n",
       "       [  1,  39,  69],\n",
       "       [  0,  23,  70],\n",
       "       [  0,  31,  70],\n",
       "       [  1,  43,  71],\n",
       "       [  1,  40,  71],\n",
       "       [  1,  59,  71],\n",
       "       [  1,  38,  71],\n",
       "       [  1,  47,  71],\n",
       "       [  1,  39,  71],\n",
       "       [  0,  25,  72],\n",
       "       [  0,  31,  72],\n",
       "       [  1,  20,  73],\n",
       "       [  0,  29,  73],\n",
       "       [  0,  44,  73],\n",
       "       [  1,  32,  73],\n",
       "       [  1,  19,  74],\n",
       "       [  0,  35,  74],\n",
       "       [  0,  57,  75],\n",
       "       [  1,  32,  75],\n",
       "       [  0,  28,  76],\n",
       "       [  0,  32,  76],\n",
       "       [  1,  25,  77],\n",
       "       [  1,  28,  77],\n",
       "       [  1,  48,  77],\n",
       "       [  0,  32,  77],\n",
       "       [  0,  34,  78],\n",
       "       [  1,  34,  78],\n",
       "       [  1,  43,  78],\n",
       "       [  1,  39,  78],\n",
       "       [  0,  44,  78],\n",
       "       [  0,  38,  78],\n",
       "       [  0,  47,  78],\n",
       "       [  0,  27,  78],\n",
       "       [  1,  37,  78],\n",
       "       [  0,  30,  78],\n",
       "       [  1,  34,  78],\n",
       "       [  0,  30,  78],\n",
       "       [  0,  56,  79],\n",
       "       [  0,  29,  79],\n",
       "       [  1,  19,  81],\n",
       "       [  0,  31,  81],\n",
       "       [  1,  50,  85],\n",
       "       [  0,  36,  85],\n",
       "       [  1,  42,  86],\n",
       "       [  0,  33,  86],\n",
       "       [  0,  36,  87],\n",
       "       [  1,  32,  87],\n",
       "       [  1,  40,  87],\n",
       "       [  1,  28,  87],\n",
       "       [  1,  36,  87],\n",
       "       [  1,  36,  87],\n",
       "       [  0,  52,  88],\n",
       "       [  0,  30,  88],\n",
       "       [  1,  58,  88],\n",
       "       [  1,  27,  88],\n",
       "       [  1,  59,  93],\n",
       "       [  1,  35,  93],\n",
       "       [  0,  37,  97],\n",
       "       [  0,  32,  97],\n",
       "       [  1,  46,  98],\n",
       "       [  0,  29,  98],\n",
       "       [  0,  41,  99],\n",
       "       [  1,  30,  99],\n",
       "       [  0,  54, 101],\n",
       "       [  1,  28, 101],\n",
       "       [  0,  41, 103],\n",
       "       [  0,  36, 103],\n",
       "       [  0,  34, 103],\n",
       "       [  0,  32, 103],\n",
       "       [  1,  33, 113],\n",
       "       [  0,  38, 113],\n",
       "       [  0,  47, 120],\n",
       "       [  0,  35, 120],\n",
       "       [  0,  45, 126],\n",
       "       [  1,  32, 126],\n",
       "       [  1,  32, 137],\n",
       "       [  1,  30, 137]], dtype=int64)"
      ]
     },
     "execution_count": 33,
     "metadata": {},
     "output_type": "execute_result"
    }
   ],
   "source": [
    "x"
   ]
  },
  {
   "cell_type": "code",
   "execution_count": 17,
   "metadata": {},
   "outputs": [],
   "source": [
    "import numpy as np\n",
    "import pandas as pd\n",
    "from matplotlib import pyplot as plt\n",
    "from sklearn.datasets.samples_generator import make_blobs\n",
    "from sklearn.cluster import KMeans"
   ]
  },
  {
   "cell_type": "code",
   "execution_count": 34,
   "metadata": {},
   "outputs": [
    {
     "data": {
      "image/png": "[encoded data removed]",
      "text/plain": [
       "<Figure size 432x288 with 1 Axes>"
      ]
     },
     "metadata": {
      "needs_background": "light"
     },
     "output_type": "display_data"
    }
   ],
   "source": [
    "Error =[]\n",
    "for i in range(1, 11):\n",
    "    kmeans = KMeans(n_clusters = i).fit(x)\n",
    "    kmeans.fit(x)\n",
    "    Error.append(kmeans.inertia_)\n",
    "import matplotlib.pyplot as plt\n",
    "plt.plot(range(1, 11), Error)\n",
    "plt.title('Elbow method')\n",
    "plt.xlabel('No of clusters')\n",
    "plt.ylabel('Error')\n",
    "plt.show()"
   ]
  },
  {
   "cell_type": "markdown",
   "metadata": {},
   "source": [
    "<h3> Since the graph seems to level off at 5 we choose that as number of clusters</h3>"
   ]
  },
  {
   "cell_type": "code",
   "execution_count": 39,
   "metadata": {},
   "outputs": [
    {
     "name": "stdout",
     "output_type": "stream",
     "text": [
      "[2 2 2 2 2 2 2 2 1 2 1 2 2 2 2 2 2 2 2 2 2 2 2 2 1 2 2 2 2 2 1 2 1 2 1 2 2\n",
      " 2 2 2 1 2 1 2 1 2 1 2 2 2 1 2 2 1 1 1 1 1 4 1 1 4 1 1 1 4 1 1 4 4 1 1 1 1\n",
      " 1 4 1 4 4 1 1 4 1 1 4 1 1 4 4 1 1 4 1 4 4 4 1 4 1 4 4 1 1 4 1 4 1 1 1 1 1\n",
      " 4 4 4 4 4 1 1 1 0 4 0 0 0 4 0 0 0 1 0 0 0 4 0 4 0 0 0 4 0 0 0 0 0 0 0 0 0\n",
      " 0 0 0 0 0 0 0 0 0 0 0 0 0 0 0 0 0 0 0 0 0 0 0 0 0 0 0 0 0 0 0 0 3 3 3 3 3\n",
      " 3 3 3 3 3 3 3 3 3 3 3 3 3 3 3]\n"
     ]
    },
    {
     "data": {
      "text/plain": [
       "array([[  0.50909091,  37.45454545,  78.72727273],\n",
       "       [  0.48076923,  56.38461538,  50.13461538],\n",
       "       [  0.33333333,  30.21428571,  27.07142857],\n",
       "       [  0.35      ,  36.6       , 109.7       ],\n",
       "       [  0.4516129 ,  25.06451613,  59.48387097]])"
      ]
     },
     "execution_count": 39,
     "metadata": {},
     "output_type": "execute_result"
    }
   ],
   "source": [
    "kmeans5 = KMeans(n_clusters=5)\n",
    "y_kmeans5 = kmeans5.fit_predict(x)\n",
    "print(y_kmeans5)\n",
    "\n",
    "kmeans5.cluster_centers_"
   ]
  },
  {
   "cell_type": "code",
   "execution_count": 52,
   "metadata": {},
   "outputs": [
    {
     "data": {
      "text/plain": [
       "<matplotlib.collections.PathCollection at 0x133bb478>"
      ]
     },
     "execution_count": 52,
     "metadata": {},
     "output_type": "execute_result"
    },
    {
     "data": {
      "image/png": "[encoded data removed]",
      "text/plain": [
       "<Figure size 432x288 with 1 Axes>"
      ]
     },
     "metadata": {
      "needs_background": "light"
     },
     "output_type": "display_data"
    }
   ],
   "source": [
    "plt.scatter(x[:,0],x[:,2],c = y_kmeans5,cmap='rainbow')"
   ]
  },
  {
   "cell_type": "code",
   "execution_count": 41,
   "metadata": {},
   "outputs": [
    {
     "name": "stdout",
     "output_type": "stream",
     "text": [
      "[1 1 1 1 1 1 1 1 3 1 3 1 3 1 1 1 1 1 3 1 1 1 3 1 3 1 3 1 1 1 3 1 3 1 3 1 3\n",
      " 1 1 1 3 1 3 1 3 1 3 1 1 1 3 1 1 3 3 3 3 5 0 3 5 0 5 5 5 0 3 5 0 0 5 5 5 5\n",
      " 5 0 5 0 0 5 5 0 5 5 0 5 5 0 0 5 5 0 5 0 0 0 5 0 5 0 0 5 5 0 5 0 5 5 5 5 5\n",
      " 0 0 0 0 0 5 5 5 5 0 2 2 2 0 2 2 2 5 2 2 2 0 2 0 2 2 2 0 2 5 2 2 2 2 2 2 2\n",
      " 2 2 2 2 2 2 2 2 2 2 2 2 2 2 2 2 2 2 2 2 2 2 2 2 2 2 2 2 2 2 2 2 4 4 4 4 4\n",
      " 4 4 4 4 4 4 4 4 4 4 4 4 4 4 4]\n"
     ]
    },
    {
     "data": {
      "text/plain": [
       "array([[  0.50909091,  37.45454545,  78.72727273],\n",
       "       [  0.48076923,  56.38461538,  50.13461538],\n",
       "       [  0.33333333,  30.21428571,  27.07142857],\n",
       "       [  0.35      ,  36.6       , 109.7       ],\n",
       "       [  0.4516129 ,  25.06451613,  59.48387097]])"
      ]
     },
     "execution_count": 41,
     "metadata": {},
     "output_type": "execute_result"
    }
   ],
   "source": [
    "kmeans6 = KMeans(n_clusters=6)\n",
    "y_kmeans6 = kmeans6.fit_predict(x)\n",
    "print(y_kmeans6)\n",
    "\n",
    "kmeans5.cluster_centers_"
   ]
  },
  {
   "cell_type": "code",
   "execution_count": 53,
   "metadata": {},
   "outputs": [
    {
     "data": {
      "text/plain": [
       "<matplotlib.collections.PathCollection at 0x133ea8e0>"
      ]
     },
     "execution_count": 53,
     "metadata": {},
     "output_type": "execute_result"
    },
    {
     "data": {
      "image/png": "[encoded data removed]",
      "text/plain": [
       "<Figure size 432x288 with 1 Axes>"
      ]
     },
     "metadata": {
      "needs_background": "light"
     },
     "output_type": "display_data"
    }
   ],
   "source": [
    "plt.scatter(x[:,0],x[:,2],c = y_kmeans6,cmap='rainbow')"
   ]
  },
  {
   "cell_type": "code",
   "execution_count": 54,
   "metadata": {},
   "outputs": [
    {
     "data": {
      "text/plain": [
       "<matplotlib.collections.PathCollection at 0x13414dc0>"
      ]
     },
     "execution_count": 54,
     "metadata": {},
     "output_type": "execute_result"
    },
    {
     "data": {
      "image/png": "[encoded data removed]",
      "text/plain": [
       "<Figure size 432x288 with 1 Axes>"
      ]
     },
     "metadata": {
      "needs_background": "light"
     },
     "output_type": "display_data"
    }
   ],
   "source": [
    "plt.scatter(x[:,0], x[:,2])"
   ]
  },
  {
   "cell_type": "code",
   "execution_count": 55,
   "metadata": {},
   "outputs": [
    {
     "data": {
      "image/png": "[encoded data removed]",
      "text/plain": [
       "<Figure size 432x288 with 1 Axes>"
      ]
     },
     "metadata": {
      "needs_background": "light"
     },
     "output_type": "display_data"
    }
   ],
   "source": [
    "kmeans8 = KMeans(n_clusters=8, init='k-means++', max_iter=300, n_init=10, random_state=0)\n",
    "pred_y = kmeans8.fit_predict(x)\n",
    "plt.scatter(x[:,0], x[:,2])\n",
    "plt.scatter(kmeans8.cluster_centers_[:, 0], kmeans8.cluster_centers_[:, 2], s=300, c='red')\n",
    "plt.show()"
   ]
  },
  {
   "cell_type": "code",
   "execution_count": 56,
   "metadata": {},
   "outputs": [
    {
     "data": {
      "text/plain": [
       "<matplotlib.collections.PathCollection at 0x1444ba48>"
      ]
     },
     "execution_count": 56,
     "metadata": {},
     "output_type": "execute_result"
    },
    {
     "data": {
      "image/png": "[encoded data removed]",
      "text/plain": [
       "<Figure size 432x288 with 1 Axes>"
      ]
     },
     "metadata": {
      "needs_background": "light"
     },
     "output_type": "display_data"
    }
   ],
   "source": [
    "plt.scatter(x[:,0],x[:,2],c = pred_y,cmap='rainbow')"
   ]
  },
  {
   "cell_type": "code",
   "execution_count": 60,
   "metadata": {},
   "outputs": [
    {
     "name": "stdout",
     "output_type": "stream",
     "text": [
      "[1 1 1 1 1 1 1 1 2 1 2 1 1 1 1 1 1 1 1 1 1 1 1 1 1 1 1 1 1 1 2 1 2 1 1 1 1\n",
      " 1 1 1 2 1 2 1 2 1 2 1 1 1 2 1 1 2 2 2 2 2 1 2 2 1 2 2 2 1 2 2 1 1 2 2 2 2\n",
      " 2 0 2 2 0 2 2 2 2 2 0 2 2 0 0 2 2 0 2 0 0 0 2 0 2 0 0 2 2 0 2 0 2 2 2 2 2\n",
      " 0 0 0 0 0 2 2 2 2 0 0 0 0 0 0 0 0 2 0 0 0 0 0 0 0 0 0 0 0 2 0 0 0 0 0 0 0\n",
      " 0 0 0 0 0 0 0 0 0 0 0 0 0 0 0 0 0 0 0 0 0 0 0 0 0 0 3 0 3 0 3 3 3 3 3 3 3\n",
      " 3 3 3 3 3 3 3 3 3 3 3 3 3 3 3]\n"
     ]
    },
    {
     "data": {
      "text/plain": [
       "array([[  0.46575342,  31.95890411,  72.95890411],\n",
       "       [  0.34693878,  30.34693878,  29.26530612],\n",
       "       [  0.5       ,  55.81481481,  51.77777778],\n",
       "       [  0.41666667,  39.        , 106.5       ]])"
      ]
     },
     "execution_count": 60,
     "metadata": {},
     "output_type": "execute_result"
    }
   ],
   "source": [
    "kmeans4 = KMeans(n_clusters=4)\n",
    "y_kmeans4 = kmeans4.fit_predict(x)\n",
    "print(y_kmeans4)\n",
    "\n",
    "kmeans4.cluster_centers_"
   ]
  },
  {
   "cell_type": "code",
   "execution_count": 58,
   "metadata": {},
   "outputs": [
    {
     "data": {
      "text/plain": [
       "<matplotlib.collections.PathCollection at 0x1447bf58>"
      ]
     },
     "execution_count": 58,
     "metadata": {},
     "output_type": "execute_result"
    },
    {
     "data": {
      "image/png": "[encoded data removed]",
      "text/plain": [
       "<Figure size 432x288 with 1 Axes>"
      ]
     },
     "metadata": {
      "needs_background": "light"
     },
     "output_type": "display_data"
    }
   ],
   "source": [
    "plt.scatter(x[:,0],x[:,2],c = y_kmeans4,cmap='rainbow')"
   ]
  },
  {
   "cell_type": "code",
   "execution_count": 59,
   "metadata": {},
   "outputs": [
    {
     "data": {
      "image/png": "[encoded data removed]",
      "text/plain": [
       "<Figure size 432x288 with 1 Axes>"
      ]
     },
     "metadata": {
      "needs_background": "light"
     },
     "output_type": "display_data"
    }
   ],
   "source": [
    "plt.scatter(x[:,0], x[:,2])\n",
    "plt.scatter(kmeans4.cluster_centers_[:, 0], kmeans4.cluster_centers_[:, 2], s=300, c='red')\n",
    "plt.show()"
   ]
  },
  {
   "cell_type": "code",
   "execution_count": 61,
   "metadata": {},
   "outputs": [
    {
     "name": "stdout",
     "output_type": "stream",
     "text": [
      "[1 1 1 1 1 1 1 1 2 1 2 1 2 1 1 1 1 1 1 1 1 1 1 1 2 1 1 1 1 1 2 1 2 1 2 1 1\n",
      " 1 1 1 2 1 2 1 2 1 2 1 1 1 2 1 1 2 2 2 2 2 1 2 2 1 2 2 2 1 2 2 1 1 2 2 2 2\n",
      " 2 1 2 2 1 2 2 2 2 2 1 2 2 1 2 2 2 0 2 2 0 0 2 0 2 0 0 2 2 0 2 0 2 2 2 2 2\n",
      " 0 0 0 0 0 2 2 2 2 0 0 0 0 0 0 0 0 2 0 0 0 0 0 0 0 0 0 0 0 0 0 0 0 0 0 0 0\n",
      " 0 0 0 0 0 0 0 0 0 0 0 0 0 0 0 0 0 0 0 0 0 0 0 0 0 0 0 0 0 0 0 0 0 0 0 0 0\n",
      " 0 0 0 0 0 0 0 0 0 0 0 0 0 0 0]\n"
     ]
    },
    {
     "data": {
      "text/plain": [
       "array([[ 0.4673913 , 34.34782609, 82.82608696],\n",
       "       [ 0.36      , 28.36      , 31.44      ],\n",
       "       [ 0.46551724, 55.03448276, 50.34482759]])"
      ]
     },
     "execution_count": 61,
     "metadata": {},
     "output_type": "execute_result"
    }
   ],
   "source": [
    "kmeans3 = KMeans(n_clusters=3)\n",
    "y_kmeans3 = kmeans3.fit_predict(x)\n",
    "print(y_kmeans3)\n",
    "\n",
    "kmeans3.cluster_centers_"
   ]
  },
  {
   "cell_type": "code",
   "execution_count": 62,
   "metadata": {},
   "outputs": [
    {
     "data": {
      "text/plain": [
       "<matplotlib.collections.PathCollection at 0x14403598>"
      ]
     },
     "execution_count": 62,
     "metadata": {},
     "output_type": "execute_result"
    },
    {
     "data": {
      "image/png": "[encoded data removed]",
      "text/plain": [
       "<Figure size 432x288 with 1 Axes>"
      ]
     },
     "metadata": {
      "needs_background": "light"
     },
     "output_type": "display_data"
    }
   ],
   "source": [
    "plt.scatter(x[:,0],x[:,2],c = y_kmeans3,cmap='rainbow')"
   ]
  },
  {
   "cell_type": "code",
   "execution_count": 63,
   "metadata": {},
   "outputs": [
    {
     "data": {
      "image/png": "[encoded data removed]",
      "text/plain": [
       "<Figure size 432x288 with 1 Axes>"
      ]
     },
     "metadata": {
      "needs_background": "light"
     },
     "output_type": "display_data"
    }
   ],
   "source": [
    "plt.scatter(x[:,0], x[:,2])\n",
    "plt.scatter(kmeans3.cluster_centers_[:, 0], kmeans3.cluster_centers_[:, 2], s=300, c='red')\n",
    "plt.show()"
   ]
  },
  {
   "cell_type": "code",
   "execution_count": 64,
   "metadata": {},
   "outputs": [
    {
     "data": {
      "image/png": "[encoded data removed]",
      "text/plain": [
       "<Figure size 432x288 with 1 Axes>"
      ]
     },
     "metadata": {
      "needs_background": "light"
     },
     "output_type": "display_data"
    }
   ],
   "source": [
    "plt.scatter(x[:,0], x[:,2])\n",
    "plt.scatter(kmeans5.cluster_centers_[:, 0], kmeans5.cluster_centers_[:, 2], s=300, c='red')\n",
    "plt.show()"
   ]
  },
  {
   "cell_type": "code",
   "execution_count": 65,
   "metadata": {},
   "outputs": [
    {
     "data": {
      "image/png": "[encoded data removed]",
      "text/plain": [
       "<Figure size 432x288 with 1 Axes>"
      ]
     },
     "metadata": {
      "needs_background": "light"
     },
     "output_type": "display_data"
    }
   ],
   "source": [
    "plt.scatter(x[:,0], x[:,2])\n",
    "plt.scatter(kmeans6.cluster_centers_[:, 0], kmeans6.cluster_centers_[:, 2], s=300, c='red')\n",
    "plt.show()"
   ]
  },
  {
   "cell_type": "markdown",
   "metadata": {},
   "source": [
    "<h3> We can see we get 5 seperate centroids in 5 clusters </h3>"
   ]
  },
  {
   "cell_type": "code",
   "execution_count": null,
   "metadata": {},
   "outputs": [],
   "source": []
  }
 ],
 "metadata": {
  "kernelspec": {
   "display_name": "Python 3",
   "language": "python",
   "name": "python3"
  },
  "language_info": {
   "codemirror_mode": {
    "name": "ipython",
    "version": 3
   },
   "file_extension": ".py",
   "mimetype": "text/x-python",
   "name": "python",
   "nbconvert_exporter": "python",
   "pygments_lexer": "ipython3",
   "version": "3.8.2"
  }
 },
 "nbformat": 4,
 "nbformat_minor": 4
}
