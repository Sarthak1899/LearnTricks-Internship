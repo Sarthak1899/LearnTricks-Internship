{
 "cells": [
  {
   "cell_type": "code",
   "execution_count": 1,
   "metadata": {},
   "outputs": [],
   "source": [
    "import pandas as pd"
   ]
  },
  {
   "cell_type": "code",
   "execution_count": 2,
   "metadata": {},
   "outputs": [],
   "source": [
    "data = pd.read_csv(r'C:\\Users\\mahe\\Desktop\\Task 5\\KAG_conversion_data.csv')"
   ]
  },
  {
   "cell_type": "code",
   "execution_count": 3,
   "metadata": {},
   "outputs": [
    {
     "data": {
      "text/html": [
       "<div>\n",
       "<style scoped>\n",
       "    .dataframe tbody tr th:only-of-type {\n",
       "        vertical-align: middle;\n",
       "    }\n",
       "\n",
       "    .dataframe tbody tr th {\n",
       "        vertical-align: top;\n",
       "    }\n",
       "\n",
       "    .dataframe thead th {\n",
       "        text-align: right;\n",
       "    }\n",
       "</style>\n",
       "<table border=\"1\" class=\"dataframe\">\n",
       "  <thead>\n",
       "    <tr style=\"text-align: right;\">\n",
       "      <th></th>\n",
       "      <th>ad_id</th>\n",
       "      <th>xyz_campaign_id</th>\n",
       "      <th>fb_campaign_id</th>\n",
       "      <th>age</th>\n",
       "      <th>gender</th>\n",
       "      <th>interest</th>\n",
       "      <th>Impressions</th>\n",
       "      <th>Clicks</th>\n",
       "      <th>Spent</th>\n",
       "      <th>Total_Conversion</th>\n",
       "      <th>Approved_Conversion</th>\n",
       "    </tr>\n",
       "  </thead>\n",
       "  <tbody>\n",
       "    <tr>\n",
       "      <th>0</th>\n",
       "      <td>708746</td>\n",
       "      <td>916</td>\n",
       "      <td>103916</td>\n",
       "      <td>30-34</td>\n",
       "      <td>M</td>\n",
       "      <td>15</td>\n",
       "      <td>7350</td>\n",
       "      <td>1</td>\n",
       "      <td>1.430000</td>\n",
       "      <td>2</td>\n",
       "      <td>1</td>\n",
       "    </tr>\n",
       "    <tr>\n",
       "      <th>1</th>\n",
       "      <td>708749</td>\n",
       "      <td>916</td>\n",
       "      <td>103917</td>\n",
       "      <td>30-34</td>\n",
       "      <td>M</td>\n",
       "      <td>16</td>\n",
       "      <td>17861</td>\n",
       "      <td>2</td>\n",
       "      <td>1.820000</td>\n",
       "      <td>2</td>\n",
       "      <td>0</td>\n",
       "    </tr>\n",
       "    <tr>\n",
       "      <th>2</th>\n",
       "      <td>708771</td>\n",
       "      <td>916</td>\n",
       "      <td>103920</td>\n",
       "      <td>30-34</td>\n",
       "      <td>M</td>\n",
       "      <td>20</td>\n",
       "      <td>693</td>\n",
       "      <td>0</td>\n",
       "      <td>0.000000</td>\n",
       "      <td>1</td>\n",
       "      <td>0</td>\n",
       "    </tr>\n",
       "    <tr>\n",
       "      <th>3</th>\n",
       "      <td>708815</td>\n",
       "      <td>916</td>\n",
       "      <td>103928</td>\n",
       "      <td>30-34</td>\n",
       "      <td>M</td>\n",
       "      <td>28</td>\n",
       "      <td>4259</td>\n",
       "      <td>1</td>\n",
       "      <td>1.250000</td>\n",
       "      <td>1</td>\n",
       "      <td>0</td>\n",
       "    </tr>\n",
       "    <tr>\n",
       "      <th>4</th>\n",
       "      <td>708818</td>\n",
       "      <td>916</td>\n",
       "      <td>103928</td>\n",
       "      <td>30-34</td>\n",
       "      <td>M</td>\n",
       "      <td>28</td>\n",
       "      <td>4133</td>\n",
       "      <td>1</td>\n",
       "      <td>1.290000</td>\n",
       "      <td>1</td>\n",
       "      <td>1</td>\n",
       "    </tr>\n",
       "    <tr>\n",
       "      <th>...</th>\n",
       "      <td>...</td>\n",
       "      <td>...</td>\n",
       "      <td>...</td>\n",
       "      <td>...</td>\n",
       "      <td>...</td>\n",
       "      <td>...</td>\n",
       "      <td>...</td>\n",
       "      <td>...</td>\n",
       "      <td>...</td>\n",
       "      <td>...</td>\n",
       "      <td>...</td>\n",
       "    </tr>\n",
       "    <tr>\n",
       "      <th>1138</th>\n",
       "      <td>1314410</td>\n",
       "      <td>1178</td>\n",
       "      <td>179977</td>\n",
       "      <td>45-49</td>\n",
       "      <td>F</td>\n",
       "      <td>109</td>\n",
       "      <td>1129773</td>\n",
       "      <td>252</td>\n",
       "      <td>358.189997</td>\n",
       "      <td>13</td>\n",
       "      <td>2</td>\n",
       "    </tr>\n",
       "    <tr>\n",
       "      <th>1139</th>\n",
       "      <td>1314411</td>\n",
       "      <td>1178</td>\n",
       "      <td>179978</td>\n",
       "      <td>45-49</td>\n",
       "      <td>F</td>\n",
       "      <td>110</td>\n",
       "      <td>637549</td>\n",
       "      <td>120</td>\n",
       "      <td>173.880003</td>\n",
       "      <td>3</td>\n",
       "      <td>0</td>\n",
       "    </tr>\n",
       "    <tr>\n",
       "      <th>1140</th>\n",
       "      <td>1314412</td>\n",
       "      <td>1178</td>\n",
       "      <td>179979</td>\n",
       "      <td>45-49</td>\n",
       "      <td>F</td>\n",
       "      <td>111</td>\n",
       "      <td>151531</td>\n",
       "      <td>28</td>\n",
       "      <td>40.289999</td>\n",
       "      <td>2</td>\n",
       "      <td>0</td>\n",
       "    </tr>\n",
       "    <tr>\n",
       "      <th>1141</th>\n",
       "      <td>1314414</td>\n",
       "      <td>1178</td>\n",
       "      <td>179981</td>\n",
       "      <td>45-49</td>\n",
       "      <td>F</td>\n",
       "      <td>113</td>\n",
       "      <td>790253</td>\n",
       "      <td>135</td>\n",
       "      <td>198.710000</td>\n",
       "      <td>8</td>\n",
       "      <td>2</td>\n",
       "    </tr>\n",
       "    <tr>\n",
       "      <th>1142</th>\n",
       "      <td>1314415</td>\n",
       "      <td>1178</td>\n",
       "      <td>179982</td>\n",
       "      <td>45-49</td>\n",
       "      <td>F</td>\n",
       "      <td>114</td>\n",
       "      <td>513161</td>\n",
       "      <td>114</td>\n",
       "      <td>165.609999</td>\n",
       "      <td>5</td>\n",
       "      <td>2</td>\n",
       "    </tr>\n",
       "  </tbody>\n",
       "</table>\n",
       "<p>1143 rows × 11 columns</p>\n",
       "</div>"
      ],
      "text/plain": [
       "        ad_id  xyz_campaign_id  fb_campaign_id    age gender  interest  \\\n",
       "0      708746              916          103916  30-34      M        15   \n",
       "1      708749              916          103917  30-34      M        16   \n",
       "2      708771              916          103920  30-34      M        20   \n",
       "3      708815              916          103928  30-34      M        28   \n",
       "4      708818              916          103928  30-34      M        28   \n",
       "...       ...              ...             ...    ...    ...       ...   \n",
       "1138  1314410             1178          179977  45-49      F       109   \n",
       "1139  1314411             1178          179978  45-49      F       110   \n",
       "1140  1314412             1178          179979  45-49      F       111   \n",
       "1141  1314414             1178          179981  45-49      F       113   \n",
       "1142  1314415             1178          179982  45-49      F       114   \n",
       "\n",
       "      Impressions  Clicks       Spent  Total_Conversion  Approved_Conversion  \n",
       "0            7350       1    1.430000                 2                    1  \n",
       "1           17861       2    1.820000                 2                    0  \n",
       "2             693       0    0.000000                 1                    0  \n",
       "3            4259       1    1.250000                 1                    0  \n",
       "4            4133       1    1.290000                 1                    1  \n",
       "...           ...     ...         ...               ...                  ...  \n",
       "1138      1129773     252  358.189997                13                    2  \n",
       "1139       637549     120  173.880003                 3                    0  \n",
       "1140       151531      28   40.289999                 2                    0  \n",
       "1141       790253     135  198.710000                 8                    2  \n",
       "1142       513161     114  165.609999                 5                    2  \n",
       "\n",
       "[1143 rows x 11 columns]"
      ]
     },
     "execution_count": 3,
     "metadata": {},
     "output_type": "execute_result"
    }
   ],
   "source": [
    "data"
   ]
  },
  {
   "cell_type": "code",
   "execution_count": 6,
   "metadata": {},
   "outputs": [
    {
     "data": {
      "text/plain": [
       "144636    6\n",
       "144562    6\n",
       "144674    6\n",
       "144536    6\n",
       "144611    6\n",
       "         ..\n",
       "116031    1\n",
       "144704    1\n",
       "116033    1\n",
       "116039    1\n",
       "116595    1\n",
       "Name: fb_campaign_id, Length: 691, dtype: int64"
      ]
     },
     "execution_count": 6,
     "metadata": {},
     "output_type": "execute_result"
    }
   ],
   "source": [
    "data['fb_campaign_id'].value_counts()"
   ]
  },
  {
   "cell_type": "code",
   "execution_count": 7,
   "metadata": {},
   "outputs": [
    {
     "data": {
      "text/plain": [
       "30-34    426\n",
       "45-49    259\n",
       "35-39    248\n",
       "40-44    210\n",
       "Name: age, dtype: int64"
      ]
     },
     "execution_count": 7,
     "metadata": {},
     "output_type": "execute_result"
    }
   ],
   "source": [
    "data['age'].value_counts()"
   ]
  },
  {
   "cell_type": "code",
   "execution_count": 8,
   "metadata": {},
   "outputs": [
    {
     "data": {
      "text/plain": [
       "16     140\n",
       "10      85\n",
       "29      77\n",
       "27      60\n",
       "15      51\n",
       "28      51\n",
       "20      49\n",
       "64      48\n",
       "63      46\n",
       "18      43\n",
       "26      41\n",
       "21      36\n",
       "32      33\n",
       "22      33\n",
       "19      32\n",
       "25      26\n",
       "30      25\n",
       "31      25\n",
       "2       25\n",
       "24      24\n",
       "7       24\n",
       "23      23\n",
       "36      21\n",
       "65      19\n",
       "66      11\n",
       "107      8\n",
       "110      8\n",
       "102      7\n",
       "112      7\n",
       "105      7\n",
       "101      7\n",
       "108      7\n",
       "100      6\n",
       "111      6\n",
       "113      6\n",
       "109      6\n",
       "106      5\n",
       "104      5\n",
       "103      5\n",
       "114      5\n",
       "Name: interest, dtype: int64"
      ]
     },
     "execution_count": 8,
     "metadata": {},
     "output_type": "execute_result"
    }
   ],
   "source": [
    "data['interest'].value_counts()"
   ]
  },
  {
   "cell_type": "code",
   "execution_count": 9,
   "metadata": {},
   "outputs": [],
   "source": [
    "data['Approved Conversion Classify'] = data['Approved_Conversion'].apply(lambda x: 1 if x >0 else 0)"
   ]
  },
  {
   "cell_type": "code",
   "execution_count": 10,
   "metadata": {},
   "outputs": [
    {
     "data": {
      "text/html": [
       "<div>\n",
       "<style scoped>\n",
       "    .dataframe tbody tr th:only-of-type {\n",
       "        vertical-align: middle;\n",
       "    }\n",
       "\n",
       "    .dataframe tbody tr th {\n",
       "        vertical-align: top;\n",
       "    }\n",
       "\n",
       "    .dataframe thead th {\n",
       "        text-align: right;\n",
       "    }\n",
       "</style>\n",
       "<table border=\"1\" class=\"dataframe\">\n",
       "  <thead>\n",
       "    <tr style=\"text-align: right;\">\n",
       "      <th></th>\n",
       "      <th>ad_id</th>\n",
       "      <th>xyz_campaign_id</th>\n",
       "      <th>fb_campaign_id</th>\n",
       "      <th>age</th>\n",
       "      <th>gender</th>\n",
       "      <th>interest</th>\n",
       "      <th>Impressions</th>\n",
       "      <th>Clicks</th>\n",
       "      <th>Spent</th>\n",
       "      <th>Total_Conversion</th>\n",
       "      <th>Approved_Conversion</th>\n",
       "      <th>Approved Conversion Classify</th>\n",
       "    </tr>\n",
       "  </thead>\n",
       "  <tbody>\n",
       "    <tr>\n",
       "      <th>0</th>\n",
       "      <td>708746</td>\n",
       "      <td>916</td>\n",
       "      <td>103916</td>\n",
       "      <td>30-34</td>\n",
       "      <td>M</td>\n",
       "      <td>15</td>\n",
       "      <td>7350</td>\n",
       "      <td>1</td>\n",
       "      <td>1.430000</td>\n",
       "      <td>2</td>\n",
       "      <td>1</td>\n",
       "      <td>1</td>\n",
       "    </tr>\n",
       "    <tr>\n",
       "      <th>1</th>\n",
       "      <td>708749</td>\n",
       "      <td>916</td>\n",
       "      <td>103917</td>\n",
       "      <td>30-34</td>\n",
       "      <td>M</td>\n",
       "      <td>16</td>\n",
       "      <td>17861</td>\n",
       "      <td>2</td>\n",
       "      <td>1.820000</td>\n",
       "      <td>2</td>\n",
       "      <td>0</td>\n",
       "      <td>0</td>\n",
       "    </tr>\n",
       "    <tr>\n",
       "      <th>2</th>\n",
       "      <td>708771</td>\n",
       "      <td>916</td>\n",
       "      <td>103920</td>\n",
       "      <td>30-34</td>\n",
       "      <td>M</td>\n",
       "      <td>20</td>\n",
       "      <td>693</td>\n",
       "      <td>0</td>\n",
       "      <td>0.000000</td>\n",
       "      <td>1</td>\n",
       "      <td>0</td>\n",
       "      <td>0</td>\n",
       "    </tr>\n",
       "    <tr>\n",
       "      <th>3</th>\n",
       "      <td>708815</td>\n",
       "      <td>916</td>\n",
       "      <td>103928</td>\n",
       "      <td>30-34</td>\n",
       "      <td>M</td>\n",
       "      <td>28</td>\n",
       "      <td>4259</td>\n",
       "      <td>1</td>\n",
       "      <td>1.250000</td>\n",
       "      <td>1</td>\n",
       "      <td>0</td>\n",
       "      <td>0</td>\n",
       "    </tr>\n",
       "    <tr>\n",
       "      <th>4</th>\n",
       "      <td>708818</td>\n",
       "      <td>916</td>\n",
       "      <td>103928</td>\n",
       "      <td>30-34</td>\n",
       "      <td>M</td>\n",
       "      <td>28</td>\n",
       "      <td>4133</td>\n",
       "      <td>1</td>\n",
       "      <td>1.290000</td>\n",
       "      <td>1</td>\n",
       "      <td>1</td>\n",
       "      <td>1</td>\n",
       "    </tr>\n",
       "    <tr>\n",
       "      <th>...</th>\n",
       "      <td>...</td>\n",
       "      <td>...</td>\n",
       "      <td>...</td>\n",
       "      <td>...</td>\n",
       "      <td>...</td>\n",
       "      <td>...</td>\n",
       "      <td>...</td>\n",
       "      <td>...</td>\n",
       "      <td>...</td>\n",
       "      <td>...</td>\n",
       "      <td>...</td>\n",
       "      <td>...</td>\n",
       "    </tr>\n",
       "    <tr>\n",
       "      <th>1138</th>\n",
       "      <td>1314410</td>\n",
       "      <td>1178</td>\n",
       "      <td>179977</td>\n",
       "      <td>45-49</td>\n",
       "      <td>F</td>\n",
       "      <td>109</td>\n",
       "      <td>1129773</td>\n",
       "      <td>252</td>\n",
       "      <td>358.189997</td>\n",
       "      <td>13</td>\n",
       "      <td>2</td>\n",
       "      <td>1</td>\n",
       "    </tr>\n",
       "    <tr>\n",
       "      <th>1139</th>\n",
       "      <td>1314411</td>\n",
       "      <td>1178</td>\n",
       "      <td>179978</td>\n",
       "      <td>45-49</td>\n",
       "      <td>F</td>\n",
       "      <td>110</td>\n",
       "      <td>637549</td>\n",
       "      <td>120</td>\n",
       "      <td>173.880003</td>\n",
       "      <td>3</td>\n",
       "      <td>0</td>\n",
       "      <td>0</td>\n",
       "    </tr>\n",
       "    <tr>\n",
       "      <th>1140</th>\n",
       "      <td>1314412</td>\n",
       "      <td>1178</td>\n",
       "      <td>179979</td>\n",
       "      <td>45-49</td>\n",
       "      <td>F</td>\n",
       "      <td>111</td>\n",
       "      <td>151531</td>\n",
       "      <td>28</td>\n",
       "      <td>40.289999</td>\n",
       "      <td>2</td>\n",
       "      <td>0</td>\n",
       "      <td>0</td>\n",
       "    </tr>\n",
       "    <tr>\n",
       "      <th>1141</th>\n",
       "      <td>1314414</td>\n",
       "      <td>1178</td>\n",
       "      <td>179981</td>\n",
       "      <td>45-49</td>\n",
       "      <td>F</td>\n",
       "      <td>113</td>\n",
       "      <td>790253</td>\n",
       "      <td>135</td>\n",
       "      <td>198.710000</td>\n",
       "      <td>8</td>\n",
       "      <td>2</td>\n",
       "      <td>1</td>\n",
       "    </tr>\n",
       "    <tr>\n",
       "      <th>1142</th>\n",
       "      <td>1314415</td>\n",
       "      <td>1178</td>\n",
       "      <td>179982</td>\n",
       "      <td>45-49</td>\n",
       "      <td>F</td>\n",
       "      <td>114</td>\n",
       "      <td>513161</td>\n",
       "      <td>114</td>\n",
       "      <td>165.609999</td>\n",
       "      <td>5</td>\n",
       "      <td>2</td>\n",
       "      <td>1</td>\n",
       "    </tr>\n",
       "  </tbody>\n",
       "</table>\n",
       "<p>1143 rows × 12 columns</p>\n",
       "</div>"
      ],
      "text/plain": [
       "        ad_id  xyz_campaign_id  fb_campaign_id    age gender  interest  \\\n",
       "0      708746              916          103916  30-34      M        15   \n",
       "1      708749              916          103917  30-34      M        16   \n",
       "2      708771              916          103920  30-34      M        20   \n",
       "3      708815              916          103928  30-34      M        28   \n",
       "4      708818              916          103928  30-34      M        28   \n",
       "...       ...              ...             ...    ...    ...       ...   \n",
       "1138  1314410             1178          179977  45-49      F       109   \n",
       "1139  1314411             1178          179978  45-49      F       110   \n",
       "1140  1314412             1178          179979  45-49      F       111   \n",
       "1141  1314414             1178          179981  45-49      F       113   \n",
       "1142  1314415             1178          179982  45-49      F       114   \n",
       "\n",
       "      Impressions  Clicks       Spent  Total_Conversion  Approved_Conversion  \\\n",
       "0            7350       1    1.430000                 2                    1   \n",
       "1           17861       2    1.820000                 2                    0   \n",
       "2             693       0    0.000000                 1                    0   \n",
       "3            4259       1    1.250000                 1                    0   \n",
       "4            4133       1    1.290000                 1                    1   \n",
       "...           ...     ...         ...               ...                  ...   \n",
       "1138      1129773     252  358.189997                13                    2   \n",
       "1139       637549     120  173.880003                 3                    0   \n",
       "1140       151531      28   40.289999                 2                    0   \n",
       "1141       790253     135  198.710000                 8                    2   \n",
       "1142       513161     114  165.609999                 5                    2   \n",
       "\n",
       "      Approved Conversion Classify  \n",
       "0                                1  \n",
       "1                                0  \n",
       "2                                0  \n",
       "3                                0  \n",
       "4                                1  \n",
       "...                            ...  \n",
       "1138                             1  \n",
       "1139                             0  \n",
       "1140                             0  \n",
       "1141                             1  \n",
       "1142                             1  \n",
       "\n",
       "[1143 rows x 12 columns]"
      ]
     },
     "execution_count": 10,
     "metadata": {},
     "output_type": "execute_result"
    }
   ],
   "source": [
    "data"
   ]
  },
  {
   "cell_type": "code",
   "execution_count": 11,
   "metadata": {},
   "outputs": [],
   "source": [
    "data['Total Conversion Classify'] = data['Total_Conversion'].apply(lambda x: 1 if x >0 else 0)"
   ]
  },
  {
   "cell_type": "code",
   "execution_count": 12,
   "metadata": {},
   "outputs": [
    {
     "data": {
      "text/plain": [
       "ad_id                             int64\n",
       "xyz_campaign_id                   int64\n",
       "fb_campaign_id                    int64\n",
       "age                              object\n",
       "gender                           object\n",
       "interest                          int64\n",
       "Impressions                       int64\n",
       "Clicks                            int64\n",
       "Spent                           float64\n",
       "Total_Conversion                  int64\n",
       "Approved_Conversion               int64\n",
       "Approved Conversion Classify      int64\n",
       "Total Conversion Classify         int64\n",
       "dtype: object"
      ]
     },
     "execution_count": 12,
     "metadata": {},
     "output_type": "execute_result"
    }
   ],
   "source": [
    "data.dtypes"
   ]
  },
  {
   "cell_type": "code",
   "execution_count": 13,
   "metadata": {},
   "outputs": [
    {
     "data": {
      "text/plain": [
       "1178    625\n",
       "936     464\n",
       "916      54\n",
       "Name: xyz_campaign_id, dtype: int64"
      ]
     },
     "execution_count": 13,
     "metadata": {},
     "output_type": "execute_result"
    }
   ],
   "source": [
    "data['xyz_campaign_id'].value_counts()"
   ]
  },
  {
   "cell_type": "code",
   "execution_count": 14,
   "metadata": {},
   "outputs": [],
   "source": [
    "from sklearn.preprocessing import LabelEncoder\n",
    "le = LabelEncoder()\n",
    "data['gender'] = le.fit_transform(data['gender'])"
   ]
  },
  {
   "cell_type": "code",
   "execution_count": 15,
   "metadata": {},
   "outputs": [],
   "source": [
    "data['age'] = le.fit_transform(data['age'])"
   ]
  },
  {
   "cell_type": "code",
   "execution_count": 16,
   "metadata": {},
   "outputs": [
    {
     "data": {
      "text/html": [
       "<div>\n",
       "<style scoped>\n",
       "    .dataframe tbody tr th:only-of-type {\n",
       "        vertical-align: middle;\n",
       "    }\n",
       "\n",
       "    .dataframe tbody tr th {\n",
       "        vertical-align: top;\n",
       "    }\n",
       "\n",
       "    .dataframe thead th {\n",
       "        text-align: right;\n",
       "    }\n",
       "</style>\n",
       "<table border=\"1\" class=\"dataframe\">\n",
       "  <thead>\n",
       "    <tr style=\"text-align: right;\">\n",
       "      <th></th>\n",
       "      <th>ad_id</th>\n",
       "      <th>xyz_campaign_id</th>\n",
       "      <th>fb_campaign_id</th>\n",
       "      <th>age</th>\n",
       "      <th>gender</th>\n",
       "      <th>interest</th>\n",
       "      <th>Impressions</th>\n",
       "      <th>Clicks</th>\n",
       "      <th>Spent</th>\n",
       "      <th>Total_Conversion</th>\n",
       "      <th>Approved_Conversion</th>\n",
       "      <th>Approved Conversion Classify</th>\n",
       "      <th>Total Conversion Classify</th>\n",
       "    </tr>\n",
       "  </thead>\n",
       "  <tbody>\n",
       "    <tr>\n",
       "      <th>0</th>\n",
       "      <td>708746</td>\n",
       "      <td>916</td>\n",
       "      <td>103916</td>\n",
       "      <td>0</td>\n",
       "      <td>1</td>\n",
       "      <td>15</td>\n",
       "      <td>7350</td>\n",
       "      <td>1</td>\n",
       "      <td>1.430000</td>\n",
       "      <td>2</td>\n",
       "      <td>1</td>\n",
       "      <td>1</td>\n",
       "      <td>1</td>\n",
       "    </tr>\n",
       "    <tr>\n",
       "      <th>1</th>\n",
       "      <td>708749</td>\n",
       "      <td>916</td>\n",
       "      <td>103917</td>\n",
       "      <td>0</td>\n",
       "      <td>1</td>\n",
       "      <td>16</td>\n",
       "      <td>17861</td>\n",
       "      <td>2</td>\n",
       "      <td>1.820000</td>\n",
       "      <td>2</td>\n",
       "      <td>0</td>\n",
       "      <td>0</td>\n",
       "      <td>1</td>\n",
       "    </tr>\n",
       "    <tr>\n",
       "      <th>2</th>\n",
       "      <td>708771</td>\n",
       "      <td>916</td>\n",
       "      <td>103920</td>\n",
       "      <td>0</td>\n",
       "      <td>1</td>\n",
       "      <td>20</td>\n",
       "      <td>693</td>\n",
       "      <td>0</td>\n",
       "      <td>0.000000</td>\n",
       "      <td>1</td>\n",
       "      <td>0</td>\n",
       "      <td>0</td>\n",
       "      <td>1</td>\n",
       "    </tr>\n",
       "    <tr>\n",
       "      <th>3</th>\n",
       "      <td>708815</td>\n",
       "      <td>916</td>\n",
       "      <td>103928</td>\n",
       "      <td>0</td>\n",
       "      <td>1</td>\n",
       "      <td>28</td>\n",
       "      <td>4259</td>\n",
       "      <td>1</td>\n",
       "      <td>1.250000</td>\n",
       "      <td>1</td>\n",
       "      <td>0</td>\n",
       "      <td>0</td>\n",
       "      <td>1</td>\n",
       "    </tr>\n",
       "    <tr>\n",
       "      <th>4</th>\n",
       "      <td>708818</td>\n",
       "      <td>916</td>\n",
       "      <td>103928</td>\n",
       "      <td>0</td>\n",
       "      <td>1</td>\n",
       "      <td>28</td>\n",
       "      <td>4133</td>\n",
       "      <td>1</td>\n",
       "      <td>1.290000</td>\n",
       "      <td>1</td>\n",
       "      <td>1</td>\n",
       "      <td>1</td>\n",
       "      <td>1</td>\n",
       "    </tr>\n",
       "    <tr>\n",
       "      <th>...</th>\n",
       "      <td>...</td>\n",
       "      <td>...</td>\n",
       "      <td>...</td>\n",
       "      <td>...</td>\n",
       "      <td>...</td>\n",
       "      <td>...</td>\n",
       "      <td>...</td>\n",
       "      <td>...</td>\n",
       "      <td>...</td>\n",
       "      <td>...</td>\n",
       "      <td>...</td>\n",
       "      <td>...</td>\n",
       "      <td>...</td>\n",
       "    </tr>\n",
       "    <tr>\n",
       "      <th>1138</th>\n",
       "      <td>1314410</td>\n",
       "      <td>1178</td>\n",
       "      <td>179977</td>\n",
       "      <td>3</td>\n",
       "      <td>0</td>\n",
       "      <td>109</td>\n",
       "      <td>1129773</td>\n",
       "      <td>252</td>\n",
       "      <td>358.189997</td>\n",
       "      <td>13</td>\n",
       "      <td>2</td>\n",
       "      <td>1</td>\n",
       "      <td>1</td>\n",
       "    </tr>\n",
       "    <tr>\n",
       "      <th>1139</th>\n",
       "      <td>1314411</td>\n",
       "      <td>1178</td>\n",
       "      <td>179978</td>\n",
       "      <td>3</td>\n",
       "      <td>0</td>\n",
       "      <td>110</td>\n",
       "      <td>637549</td>\n",
       "      <td>120</td>\n",
       "      <td>173.880003</td>\n",
       "      <td>3</td>\n",
       "      <td>0</td>\n",
       "      <td>0</td>\n",
       "      <td>1</td>\n",
       "    </tr>\n",
       "    <tr>\n",
       "      <th>1140</th>\n",
       "      <td>1314412</td>\n",
       "      <td>1178</td>\n",
       "      <td>179979</td>\n",
       "      <td>3</td>\n",
       "      <td>0</td>\n",
       "      <td>111</td>\n",
       "      <td>151531</td>\n",
       "      <td>28</td>\n",
       "      <td>40.289999</td>\n",
       "      <td>2</td>\n",
       "      <td>0</td>\n",
       "      <td>0</td>\n",
       "      <td>1</td>\n",
       "    </tr>\n",
       "    <tr>\n",
       "      <th>1141</th>\n",
       "      <td>1314414</td>\n",
       "      <td>1178</td>\n",
       "      <td>179981</td>\n",
       "      <td>3</td>\n",
       "      <td>0</td>\n",
       "      <td>113</td>\n",
       "      <td>790253</td>\n",
       "      <td>135</td>\n",
       "      <td>198.710000</td>\n",
       "      <td>8</td>\n",
       "      <td>2</td>\n",
       "      <td>1</td>\n",
       "      <td>1</td>\n",
       "    </tr>\n",
       "    <tr>\n",
       "      <th>1142</th>\n",
       "      <td>1314415</td>\n",
       "      <td>1178</td>\n",
       "      <td>179982</td>\n",
       "      <td>3</td>\n",
       "      <td>0</td>\n",
       "      <td>114</td>\n",
       "      <td>513161</td>\n",
       "      <td>114</td>\n",
       "      <td>165.609999</td>\n",
       "      <td>5</td>\n",
       "      <td>2</td>\n",
       "      <td>1</td>\n",
       "      <td>1</td>\n",
       "    </tr>\n",
       "  </tbody>\n",
       "</table>\n",
       "<p>1143 rows × 13 columns</p>\n",
       "</div>"
      ],
      "text/plain": [
       "        ad_id  xyz_campaign_id  fb_campaign_id  age  gender  interest  \\\n",
       "0      708746              916          103916    0       1        15   \n",
       "1      708749              916          103917    0       1        16   \n",
       "2      708771              916          103920    0       1        20   \n",
       "3      708815              916          103928    0       1        28   \n",
       "4      708818              916          103928    0       1        28   \n",
       "...       ...              ...             ...  ...     ...       ...   \n",
       "1138  1314410             1178          179977    3       0       109   \n",
       "1139  1314411             1178          179978    3       0       110   \n",
       "1140  1314412             1178          179979    3       0       111   \n",
       "1141  1314414             1178          179981    3       0       113   \n",
       "1142  1314415             1178          179982    3       0       114   \n",
       "\n",
       "      Impressions  Clicks       Spent  Total_Conversion  Approved_Conversion  \\\n",
       "0            7350       1    1.430000                 2                    1   \n",
       "1           17861       2    1.820000                 2                    0   \n",
       "2             693       0    0.000000                 1                    0   \n",
       "3            4259       1    1.250000                 1                    0   \n",
       "4            4133       1    1.290000                 1                    1   \n",
       "...           ...     ...         ...               ...                  ...   \n",
       "1138      1129773     252  358.189997                13                    2   \n",
       "1139       637549     120  173.880003                 3                    0   \n",
       "1140       151531      28   40.289999                 2                    0   \n",
       "1141       790253     135  198.710000                 8                    2   \n",
       "1142       513161     114  165.609999                 5                    2   \n",
       "\n",
       "      Approved Conversion Classify  Total Conversion Classify  \n",
       "0                                1                          1  \n",
       "1                                0                          1  \n",
       "2                                0                          1  \n",
       "3                                0                          1  \n",
       "4                                1                          1  \n",
       "...                            ...                        ...  \n",
       "1138                             1                          1  \n",
       "1139                             0                          1  \n",
       "1140                             0                          1  \n",
       "1141                             1                          1  \n",
       "1142                             1                          1  \n",
       "\n",
       "[1143 rows x 13 columns]"
      ]
     },
     "execution_count": 16,
     "metadata": {},
     "output_type": "execute_result"
    }
   ],
   "source": [
    "data"
   ]
  },
  {
   "cell_type": "code",
   "execution_count": 19,
   "metadata": {},
   "outputs": [],
   "source": [
    "data['xyz_campaign_id']= data['xyz_campaign_id'].replace(916,1)"
   ]
  },
  {
   "cell_type": "code",
   "execution_count": 20,
   "metadata": {},
   "outputs": [],
   "source": [
    "data['xyz_campaign_id'] = data['xyz_campaign_id'].replace(936,2)"
   ]
  },
  {
   "cell_type": "code",
   "execution_count": 21,
   "metadata": {},
   "outputs": [],
   "source": [
    "data['xyz_campaign_id'] = data['xyz_campaign_id'].replace(1178,3)"
   ]
  },
  {
   "cell_type": "code",
   "execution_count": 22,
   "metadata": {},
   "outputs": [
    {
     "data": {
      "text/html": [
       "<div>\n",
       "<style scoped>\n",
       "    .dataframe tbody tr th:only-of-type {\n",
       "        vertical-align: middle;\n",
       "    }\n",
       "\n",
       "    .dataframe tbody tr th {\n",
       "        vertical-align: top;\n",
       "    }\n",
       "\n",
       "    .dataframe thead th {\n",
       "        text-align: right;\n",
       "    }\n",
       "</style>\n",
       "<table border=\"1\" class=\"dataframe\">\n",
       "  <thead>\n",
       "    <tr style=\"text-align: right;\">\n",
       "      <th></th>\n",
       "      <th>ad_id</th>\n",
       "      <th>xyz_campaign_id</th>\n",
       "      <th>fb_campaign_id</th>\n",
       "      <th>age</th>\n",
       "      <th>gender</th>\n",
       "      <th>interest</th>\n",
       "      <th>Impressions</th>\n",
       "      <th>Clicks</th>\n",
       "      <th>Spent</th>\n",
       "      <th>Total_Conversion</th>\n",
       "      <th>Approved_Conversion</th>\n",
       "      <th>Approved Conversion Classify</th>\n",
       "      <th>Total Conversion Classify</th>\n",
       "    </tr>\n",
       "  </thead>\n",
       "  <tbody>\n",
       "    <tr>\n",
       "      <th>0</th>\n",
       "      <td>708746</td>\n",
       "      <td>1</td>\n",
       "      <td>103916</td>\n",
       "      <td>0</td>\n",
       "      <td>1</td>\n",
       "      <td>15</td>\n",
       "      <td>7350</td>\n",
       "      <td>1</td>\n",
       "      <td>1.430000</td>\n",
       "      <td>2</td>\n",
       "      <td>1</td>\n",
       "      <td>1</td>\n",
       "      <td>1</td>\n",
       "    </tr>\n",
       "    <tr>\n",
       "      <th>1</th>\n",
       "      <td>708749</td>\n",
       "      <td>1</td>\n",
       "      <td>103917</td>\n",
       "      <td>0</td>\n",
       "      <td>1</td>\n",
       "      <td>16</td>\n",
       "      <td>17861</td>\n",
       "      <td>2</td>\n",
       "      <td>1.820000</td>\n",
       "      <td>2</td>\n",
       "      <td>0</td>\n",
       "      <td>0</td>\n",
       "      <td>1</td>\n",
       "    </tr>\n",
       "    <tr>\n",
       "      <th>2</th>\n",
       "      <td>708771</td>\n",
       "      <td>1</td>\n",
       "      <td>103920</td>\n",
       "      <td>0</td>\n",
       "      <td>1</td>\n",
       "      <td>20</td>\n",
       "      <td>693</td>\n",
       "      <td>0</td>\n",
       "      <td>0.000000</td>\n",
       "      <td>1</td>\n",
       "      <td>0</td>\n",
       "      <td>0</td>\n",
       "      <td>1</td>\n",
       "    </tr>\n",
       "    <tr>\n",
       "      <th>3</th>\n",
       "      <td>708815</td>\n",
       "      <td>1</td>\n",
       "      <td>103928</td>\n",
       "      <td>0</td>\n",
       "      <td>1</td>\n",
       "      <td>28</td>\n",
       "      <td>4259</td>\n",
       "      <td>1</td>\n",
       "      <td>1.250000</td>\n",
       "      <td>1</td>\n",
       "      <td>0</td>\n",
       "      <td>0</td>\n",
       "      <td>1</td>\n",
       "    </tr>\n",
       "    <tr>\n",
       "      <th>4</th>\n",
       "      <td>708818</td>\n",
       "      <td>1</td>\n",
       "      <td>103928</td>\n",
       "      <td>0</td>\n",
       "      <td>1</td>\n",
       "      <td>28</td>\n",
       "      <td>4133</td>\n",
       "      <td>1</td>\n",
       "      <td>1.290000</td>\n",
       "      <td>1</td>\n",
       "      <td>1</td>\n",
       "      <td>1</td>\n",
       "      <td>1</td>\n",
       "    </tr>\n",
       "    <tr>\n",
       "      <th>...</th>\n",
       "      <td>...</td>\n",
       "      <td>...</td>\n",
       "      <td>...</td>\n",
       "      <td>...</td>\n",
       "      <td>...</td>\n",
       "      <td>...</td>\n",
       "      <td>...</td>\n",
       "      <td>...</td>\n",
       "      <td>...</td>\n",
       "      <td>...</td>\n",
       "      <td>...</td>\n",
       "      <td>...</td>\n",
       "      <td>...</td>\n",
       "    </tr>\n",
       "    <tr>\n",
       "      <th>1138</th>\n",
       "      <td>1314410</td>\n",
       "      <td>3</td>\n",
       "      <td>179977</td>\n",
       "      <td>3</td>\n",
       "      <td>0</td>\n",
       "      <td>109</td>\n",
       "      <td>1129773</td>\n",
       "      <td>252</td>\n",
       "      <td>358.189997</td>\n",
       "      <td>13</td>\n",
       "      <td>2</td>\n",
       "      <td>1</td>\n",
       "      <td>1</td>\n",
       "    </tr>\n",
       "    <tr>\n",
       "      <th>1139</th>\n",
       "      <td>1314411</td>\n",
       "      <td>3</td>\n",
       "      <td>179978</td>\n",
       "      <td>3</td>\n",
       "      <td>0</td>\n",
       "      <td>110</td>\n",
       "      <td>637549</td>\n",
       "      <td>120</td>\n",
       "      <td>173.880003</td>\n",
       "      <td>3</td>\n",
       "      <td>0</td>\n",
       "      <td>0</td>\n",
       "      <td>1</td>\n",
       "    </tr>\n",
       "    <tr>\n",
       "      <th>1140</th>\n",
       "      <td>1314412</td>\n",
       "      <td>3</td>\n",
       "      <td>179979</td>\n",
       "      <td>3</td>\n",
       "      <td>0</td>\n",
       "      <td>111</td>\n",
       "      <td>151531</td>\n",
       "      <td>28</td>\n",
       "      <td>40.289999</td>\n",
       "      <td>2</td>\n",
       "      <td>0</td>\n",
       "      <td>0</td>\n",
       "      <td>1</td>\n",
       "    </tr>\n",
       "    <tr>\n",
       "      <th>1141</th>\n",
       "      <td>1314414</td>\n",
       "      <td>3</td>\n",
       "      <td>179981</td>\n",
       "      <td>3</td>\n",
       "      <td>0</td>\n",
       "      <td>113</td>\n",
       "      <td>790253</td>\n",
       "      <td>135</td>\n",
       "      <td>198.710000</td>\n",
       "      <td>8</td>\n",
       "      <td>2</td>\n",
       "      <td>1</td>\n",
       "      <td>1</td>\n",
       "    </tr>\n",
       "    <tr>\n",
       "      <th>1142</th>\n",
       "      <td>1314415</td>\n",
       "      <td>3</td>\n",
       "      <td>179982</td>\n",
       "      <td>3</td>\n",
       "      <td>0</td>\n",
       "      <td>114</td>\n",
       "      <td>513161</td>\n",
       "      <td>114</td>\n",
       "      <td>165.609999</td>\n",
       "      <td>5</td>\n",
       "      <td>2</td>\n",
       "      <td>1</td>\n",
       "      <td>1</td>\n",
       "    </tr>\n",
       "  </tbody>\n",
       "</table>\n",
       "<p>1143 rows × 13 columns</p>\n",
       "</div>"
      ],
      "text/plain": [
       "        ad_id  xyz_campaign_id  fb_campaign_id  age  gender  interest  \\\n",
       "0      708746                1          103916    0       1        15   \n",
       "1      708749                1          103917    0       1        16   \n",
       "2      708771                1          103920    0       1        20   \n",
       "3      708815                1          103928    0       1        28   \n",
       "4      708818                1          103928    0       1        28   \n",
       "...       ...              ...             ...  ...     ...       ...   \n",
       "1138  1314410                3          179977    3       0       109   \n",
       "1139  1314411                3          179978    3       0       110   \n",
       "1140  1314412                3          179979    3       0       111   \n",
       "1141  1314414                3          179981    3       0       113   \n",
       "1142  1314415                3          179982    3       0       114   \n",
       "\n",
       "      Impressions  Clicks       Spent  Total_Conversion  Approved_Conversion  \\\n",
       "0            7350       1    1.430000                 2                    1   \n",
       "1           17861       2    1.820000                 2                    0   \n",
       "2             693       0    0.000000                 1                    0   \n",
       "3            4259       1    1.250000                 1                    0   \n",
       "4            4133       1    1.290000                 1                    1   \n",
       "...           ...     ...         ...               ...                  ...   \n",
       "1138      1129773     252  358.189997                13                    2   \n",
       "1139       637549     120  173.880003                 3                    0   \n",
       "1140       151531      28   40.289999                 2                    0   \n",
       "1141       790253     135  198.710000                 8                    2   \n",
       "1142       513161     114  165.609999                 5                    2   \n",
       "\n",
       "      Approved Conversion Classify  Total Conversion Classify  \n",
       "0                                1                          1  \n",
       "1                                0                          1  \n",
       "2                                0                          1  \n",
       "3                                0                          1  \n",
       "4                                1                          1  \n",
       "...                            ...                        ...  \n",
       "1138                             1                          1  \n",
       "1139                             0                          1  \n",
       "1140                             0                          1  \n",
       "1141                             1                          1  \n",
       "1142                             1                          1  \n",
       "\n",
       "[1143 rows x 13 columns]"
      ]
     },
     "execution_count": 22,
     "metadata": {},
     "output_type": "execute_result"
    }
   ],
   "source": [
    "data"
   ]
  },
  {
   "cell_type": "code",
   "execution_count": 23,
   "metadata": {},
   "outputs": [
    {
     "data": {
      "image/png": "[encoded data removed]",
      "text/plain": [
       "<Figure size 432x288 with 1 Axes>"
      ]
     },
     "metadata": {},
     "output_type": "display_data"
    }
   ],
   "source": [
    "import seaborn as sns\n",
    "sns.set(style=\"darkgrid\")       \n",
    "interest  = sns.countplot(x=\"interest\", data =data).set_title(\"interest\")"
   ]
  },
  {
   "cell_type": "code",
   "execution_count": 24,
   "metadata": {},
   "outputs": [],
   "source": [
    "from sklearn.preprocessing import Binarizer\n",
    "#Creating a threshold \n",
    "bn = Binarizer(threshold=20)\n",
    "#above 7 is considered as 1 and below 7 we are considering as 0\n",
    "bn_trans = bn.transform([data['interest']])[0]\n",
    "data['interest'] = bn_trans"
   ]
  },
  {
   "cell_type": "code",
   "execution_count": 25,
   "metadata": {},
   "outputs": [
    {
     "data": {
      "text/html": [
       "<div>\n",
       "<style scoped>\n",
       "    .dataframe tbody tr th:only-of-type {\n",
       "        vertical-align: middle;\n",
       "    }\n",
       "\n",
       "    .dataframe tbody tr th {\n",
       "        vertical-align: top;\n",
       "    }\n",
       "\n",
       "    .dataframe thead th {\n",
       "        text-align: right;\n",
       "    }\n",
       "</style>\n",
       "<table border=\"1\" class=\"dataframe\">\n",
       "  <thead>\n",
       "    <tr style=\"text-align: right;\">\n",
       "      <th></th>\n",
       "      <th>ad_id</th>\n",
       "      <th>xyz_campaign_id</th>\n",
       "      <th>fb_campaign_id</th>\n",
       "      <th>age</th>\n",
       "      <th>gender</th>\n",
       "      <th>interest</th>\n",
       "      <th>Impressions</th>\n",
       "      <th>Clicks</th>\n",
       "      <th>Spent</th>\n",
       "      <th>Total_Conversion</th>\n",
       "      <th>Approved_Conversion</th>\n",
       "      <th>Approved Conversion Classify</th>\n",
       "      <th>Total Conversion Classify</th>\n",
       "    </tr>\n",
       "  </thead>\n",
       "  <tbody>\n",
       "    <tr>\n",
       "      <th>0</th>\n",
       "      <td>708746</td>\n",
       "      <td>1</td>\n",
       "      <td>103916</td>\n",
       "      <td>0</td>\n",
       "      <td>1</td>\n",
       "      <td>0</td>\n",
       "      <td>7350</td>\n",
       "      <td>1</td>\n",
       "      <td>1.430000</td>\n",
       "      <td>2</td>\n",
       "      <td>1</td>\n",
       "      <td>1</td>\n",
       "      <td>1</td>\n",
       "    </tr>\n",
       "    <tr>\n",
       "      <th>1</th>\n",
       "      <td>708749</td>\n",
       "      <td>1</td>\n",
       "      <td>103917</td>\n",
       "      <td>0</td>\n",
       "      <td>1</td>\n",
       "      <td>0</td>\n",
       "      <td>17861</td>\n",
       "      <td>2</td>\n",
       "      <td>1.820000</td>\n",
       "      <td>2</td>\n",
       "      <td>0</td>\n",
       "      <td>0</td>\n",
       "      <td>1</td>\n",
       "    </tr>\n",
       "    <tr>\n",
       "      <th>2</th>\n",
       "      <td>708771</td>\n",
       "      <td>1</td>\n",
       "      <td>103920</td>\n",
       "      <td>0</td>\n",
       "      <td>1</td>\n",
       "      <td>0</td>\n",
       "      <td>693</td>\n",
       "      <td>0</td>\n",
       "      <td>0.000000</td>\n",
       "      <td>1</td>\n",
       "      <td>0</td>\n",
       "      <td>0</td>\n",
       "      <td>1</td>\n",
       "    </tr>\n",
       "    <tr>\n",
       "      <th>3</th>\n",
       "      <td>708815</td>\n",
       "      <td>1</td>\n",
       "      <td>103928</td>\n",
       "      <td>0</td>\n",
       "      <td>1</td>\n",
       "      <td>1</td>\n",
       "      <td>4259</td>\n",
       "      <td>1</td>\n",
       "      <td>1.250000</td>\n",
       "      <td>1</td>\n",
       "      <td>0</td>\n",
       "      <td>0</td>\n",
       "      <td>1</td>\n",
       "    </tr>\n",
       "    <tr>\n",
       "      <th>4</th>\n",
       "      <td>708818</td>\n",
       "      <td>1</td>\n",
       "      <td>103928</td>\n",
       "      <td>0</td>\n",
       "      <td>1</td>\n",
       "      <td>1</td>\n",
       "      <td>4133</td>\n",
       "      <td>1</td>\n",
       "      <td>1.290000</td>\n",
       "      <td>1</td>\n",
       "      <td>1</td>\n",
       "      <td>1</td>\n",
       "      <td>1</td>\n",
       "    </tr>\n",
       "    <tr>\n",
       "      <th>...</th>\n",
       "      <td>...</td>\n",
       "      <td>...</td>\n",
       "      <td>...</td>\n",
       "      <td>...</td>\n",
       "      <td>...</td>\n",
       "      <td>...</td>\n",
       "      <td>...</td>\n",
       "      <td>...</td>\n",
       "      <td>...</td>\n",
       "      <td>...</td>\n",
       "      <td>...</td>\n",
       "      <td>...</td>\n",
       "      <td>...</td>\n",
       "    </tr>\n",
       "    <tr>\n",
       "      <th>1138</th>\n",
       "      <td>1314410</td>\n",
       "      <td>3</td>\n",
       "      <td>179977</td>\n",
       "      <td>3</td>\n",
       "      <td>0</td>\n",
       "      <td>1</td>\n",
       "      <td>1129773</td>\n",
       "      <td>252</td>\n",
       "      <td>358.189997</td>\n",
       "      <td>13</td>\n",
       "      <td>2</td>\n",
       "      <td>1</td>\n",
       "      <td>1</td>\n",
       "    </tr>\n",
       "    <tr>\n",
       "      <th>1139</th>\n",
       "      <td>1314411</td>\n",
       "      <td>3</td>\n",
       "      <td>179978</td>\n",
       "      <td>3</td>\n",
       "      <td>0</td>\n",
       "      <td>1</td>\n",
       "      <td>637549</td>\n",
       "      <td>120</td>\n",
       "      <td>173.880003</td>\n",
       "      <td>3</td>\n",
       "      <td>0</td>\n",
       "      <td>0</td>\n",
       "      <td>1</td>\n",
       "    </tr>\n",
       "    <tr>\n",
       "      <th>1140</th>\n",
       "      <td>1314412</td>\n",
       "      <td>3</td>\n",
       "      <td>179979</td>\n",
       "      <td>3</td>\n",
       "      <td>0</td>\n",
       "      <td>1</td>\n",
       "      <td>151531</td>\n",
       "      <td>28</td>\n",
       "      <td>40.289999</td>\n",
       "      <td>2</td>\n",
       "      <td>0</td>\n",
       "      <td>0</td>\n",
       "      <td>1</td>\n",
       "    </tr>\n",
       "    <tr>\n",
       "      <th>1141</th>\n",
       "      <td>1314414</td>\n",
       "      <td>3</td>\n",
       "      <td>179981</td>\n",
       "      <td>3</td>\n",
       "      <td>0</td>\n",
       "      <td>1</td>\n",
       "      <td>790253</td>\n",
       "      <td>135</td>\n",
       "      <td>198.710000</td>\n",
       "      <td>8</td>\n",
       "      <td>2</td>\n",
       "      <td>1</td>\n",
       "      <td>1</td>\n",
       "    </tr>\n",
       "    <tr>\n",
       "      <th>1142</th>\n",
       "      <td>1314415</td>\n",
       "      <td>3</td>\n",
       "      <td>179982</td>\n",
       "      <td>3</td>\n",
       "      <td>0</td>\n",
       "      <td>1</td>\n",
       "      <td>513161</td>\n",
       "      <td>114</td>\n",
       "      <td>165.609999</td>\n",
       "      <td>5</td>\n",
       "      <td>2</td>\n",
       "      <td>1</td>\n",
       "      <td>1</td>\n",
       "    </tr>\n",
       "  </tbody>\n",
       "</table>\n",
       "<p>1143 rows × 13 columns</p>\n",
       "</div>"
      ],
      "text/plain": [
       "        ad_id  xyz_campaign_id  fb_campaign_id  age  gender  interest  \\\n",
       "0      708746                1          103916    0       1         0   \n",
       "1      708749                1          103917    0       1         0   \n",
       "2      708771                1          103920    0       1         0   \n",
       "3      708815                1          103928    0       1         1   \n",
       "4      708818                1          103928    0       1         1   \n",
       "...       ...              ...             ...  ...     ...       ...   \n",
       "1138  1314410                3          179977    3       0         1   \n",
       "1139  1314411                3          179978    3       0         1   \n",
       "1140  1314412                3          179979    3       0         1   \n",
       "1141  1314414                3          179981    3       0         1   \n",
       "1142  1314415                3          179982    3       0         1   \n",
       "\n",
       "      Impressions  Clicks       Spent  Total_Conversion  Approved_Conversion  \\\n",
       "0            7350       1    1.430000                 2                    1   \n",
       "1           17861       2    1.820000                 2                    0   \n",
       "2             693       0    0.000000                 1                    0   \n",
       "3            4259       1    1.250000                 1                    0   \n",
       "4            4133       1    1.290000                 1                    1   \n",
       "...           ...     ...         ...               ...                  ...   \n",
       "1138      1129773     252  358.189997                13                    2   \n",
       "1139       637549     120  173.880003                 3                    0   \n",
       "1140       151531      28   40.289999                 2                    0   \n",
       "1141       790253     135  198.710000                 8                    2   \n",
       "1142       513161     114  165.609999                 5                    2   \n",
       "\n",
       "      Approved Conversion Classify  Total Conversion Classify  \n",
       "0                                1                          1  \n",
       "1                                0                          1  \n",
       "2                                0                          1  \n",
       "3                                0                          1  \n",
       "4                                1                          1  \n",
       "...                            ...                        ...  \n",
       "1138                             1                          1  \n",
       "1139                             0                          1  \n",
       "1140                             0                          1  \n",
       "1141                             1                          1  \n",
       "1142                             1                          1  \n",
       "\n",
       "[1143 rows x 13 columns]"
      ]
     },
     "execution_count": 25,
     "metadata": {},
     "output_type": "execute_result"
    }
   ],
   "source": [
    "data"
   ]
  },
  {
   "cell_type": "code",
   "execution_count": 26,
   "metadata": {},
   "outputs": [],
   "source": [
    "from sklearn.naive_bayes import GaussianNB\n",
    "from sklearn.svm import SVC\n",
    "from sklearn.neighbors import KNeighborsClassifier\n",
    "from sklearn.tree import DecisionTreeClassifier\n",
    "from sklearn.ensemble import RandomForestClassifier"
   ]
  },
  {
   "cell_type": "code",
   "execution_count": 27,
   "metadata": {},
   "outputs": [],
   "source": [
    "def naive_bayes(x_train,y_train):\n",
    "    classifier = GaussianNB()\n",
    "    classifier.fit(x_train,y_train)\n",
    "    \n",
    "    return classifier"
   ]
  },
  {
   "cell_type": "code",
   "execution_count": 28,
   "metadata": {},
   "outputs": [],
   "source": [
    "def k_nearest_neighbors(x_train,y_train):\n",
    "    classifier = KNeighborsClassifier(n_neighbors=10)\n",
    "    classifier.fit(x_train,y_train)\n",
    "    \n",
    "    return classifier"
   ]
  },
  {
   "cell_type": "code",
   "execution_count": 29,
   "metadata": {},
   "outputs": [],
   "source": [
    "def svc(x_train,y_train):\n",
    "    classifier = SVC(kernel = 'rbf', gamma = 'scale')\n",
    "    classifier.fit(x_train,y_train)\n",
    "    \n",
    "    return classifier"
   ]
  },
  {
   "cell_type": "code",
   "execution_count": 30,
   "metadata": {},
   "outputs": [],
   "source": [
    "def decision_tree(x_train,y_train):\n",
    "    classifier = DecisionTreeClassifier(max_depth=6)\n",
    "    classifier.fit(x_train,y_train)\n",
    "    \n",
    "    return classifier"
   ]
  },
  {
   "cell_type": "code",
   "execution_count": 31,
   "metadata": {},
   "outputs": [],
   "source": [
    "from sklearn.metrics import accuracy_score"
   ]
  },
  {
   "cell_type": "code",
   "execution_count": 32,
   "metadata": {},
   "outputs": [],
   "source": [
    "def build_and_train_classifier(x_train,y_train,classification_fn):\n",
    "    model = classification_fn(x_train,y_train)\n",
    "    y_pred = model.predict(x_test)\n",
    "    \n",
    "    train_score = model.score(x_train,y_train)\n",
    "    test_score = accuracy = accuracy_score(y_test,y_pred)\n",
    "    \n",
    "    print(\"Training Score: \",train_score)\n",
    "    print(\"Testing Score: \", test_score)"
   ]
  },
  {
   "cell_type": "code",
   "execution_count": 44,
   "metadata": {},
   "outputs": [],
   "source": [
    "from sklearn.model_selection import train_test_split\n",
    "from sklearn.preprocessing import scale\n",
    "X= data.drop(['Approved Conversion Classify','ad_id'],axis =1)\n",
    "X =scale(X)\n",
    "Y = data['Approved Conversion Classify']\n",
    "X_train,x_test,Y_train,y_test = train_test_split(X,Y,test_size = 0.2,random_state=0)"
   ]
  },
  {
   "cell_type": "code",
   "execution_count": 45,
   "metadata": {},
   "outputs": [
    {
     "name": "stdout",
     "output_type": "stream",
     "text": [
      "Training Score:  0.9989059080962801\n",
      "Testing Score:  0.9912663755458515\n"
     ]
    }
   ],
   "source": [
    "build_and_train_classifier(X_train,Y_train,naive_bayes)"
   ]
  },
  {
   "cell_type": "code",
   "execution_count": 46,
   "metadata": {},
   "outputs": [
    {
     "name": "stdout",
     "output_type": "stream",
     "text": [
      "Training Score:  0.9967177242888403\n",
      "Testing Score:  0.9868995633187773\n"
     ]
    }
   ],
   "source": [
    "build_and_train_classifier(X_train,Y_train,k_nearest_neighbors)"
   ]
  },
  {
   "cell_type": "code",
   "execution_count": 47,
   "metadata": {},
   "outputs": [
    {
     "name": "stdout",
     "output_type": "stream",
     "text": [
      "Training Score:  0.9989059080962801\n",
      "Testing Score:  0.9912663755458515\n"
     ]
    }
   ],
   "source": [
    "build_and_train_classifier(X_train,Y_train,svc)"
   ]
  },
  {
   "cell_type": "code",
   "execution_count": 48,
   "metadata": {},
   "outputs": [
    {
     "name": "stdout",
     "output_type": "stream",
     "text": [
      "Training Score:  1.0\n",
      "Testing Score:  1.0\n"
     ]
    }
   ],
   "source": [
    "build_and_train_classifier(X_train,Y_train,decision_tree)"
   ]
  },
  {
   "cell_type": "code",
   "execution_count": 49,
   "metadata": {},
   "outputs": [],
   "source": [
    "svc_model = SVC(kernel = 'rbf', gamma = 'scale')"
   ]
  },
  {
   "cell_type": "code",
   "execution_count": 50,
   "metadata": {},
   "outputs": [
    {
     "data": {
      "text/plain": [
       "SVC(C=1.0, break_ties=False, cache_size=200, class_weight=None, coef0=0.0,\n",
       "    decision_function_shape='ovr', degree=3, gamma='scale', kernel='rbf',\n",
       "    max_iter=-1, probability=False, random_state=None, shrinking=True,\n",
       "    tol=0.001, verbose=False)"
      ]
     },
     "execution_count": 50,
     "metadata": {},
     "output_type": "execute_result"
    }
   ],
   "source": [
    "svc_model.fit(X_train,Y_train)"
   ]
  },
  {
   "cell_type": "code",
   "execution_count": 51,
   "metadata": {},
   "outputs": [],
   "source": [
    "y_pred_all = svc_model.predict(X)"
   ]
  },
  {
   "cell_type": "code",
   "execution_count": 52,
   "metadata": {},
   "outputs": [
    {
     "data": {
      "text/plain": [
       "0.9973753280839895"
      ]
     },
     "execution_count": 52,
     "metadata": {},
     "output_type": "execute_result"
    }
   ],
   "source": [
    "accuracy_score(Y,y_pred_all)"
   ]
  },
  {
   "cell_type": "code",
   "execution_count": 53,
   "metadata": {},
   "outputs": [],
   "source": [
    "data['Prediction Approved'] = y_pred_all"
   ]
  },
  {
   "cell_type": "code",
   "execution_count": 54,
   "metadata": {},
   "outputs": [],
   "source": [
    "x = data.iloc[:,[9,10]].values"
   ]
  },
  {
   "cell_type": "code",
   "execution_count": 55,
   "metadata": {},
   "outputs": [
    {
     "name": "stderr",
     "output_type": "stream",
     "text": [
      "c:\\users\\mahe\\appdata\\local\\programs\\python\\python38-32\\lib\\site-packages\\sklearn\\utils\\deprecation.py:144: FutureWarning: The sklearn.datasets.samples_generator module is  deprecated in version 0.22 and will be removed in version 0.24. The corresponding classes / functions should instead be imported from sklearn.datasets. Anything that cannot be imported from sklearn.datasets is now part of the private API.\n",
      "  warnings.warn(message, FutureWarning)\n"
     ]
    }
   ],
   "source": [
    "import numpy as np\n",
    "import pandas as pd\n",
    "from matplotlib import pyplot as plt\n",
    "from sklearn.datasets.samples_generator import make_blobs\n",
    "from sklearn.cluster import KMeans"
   ]
  },
  {
   "cell_type": "code",
   "execution_count": 56,
   "metadata": {},
   "outputs": [
    {
     "data": {
      "image/png": "[encoded data removed]",
      "text/plain": [
       "<Figure size 432x288 with 1 Axes>"
      ]
     },
     "metadata": {},
     "output_type": "display_data"
    }
   ],
   "source": [
    "Error =[]\n",
    "for i in range(1, 11):\n",
    "    kmeans = KMeans(n_clusters = i).fit(x)\n",
    "    kmeans.fit(x)\n",
    "    Error.append(kmeans.inertia_)\n",
    "import matplotlib.pyplot as plt\n",
    "plt.plot(range(1, 11), Error)\n",
    "plt.title('Elbow method')\n",
    "plt.xlabel('No of clusters')\n",
    "plt.ylabel('Error')\n",
    "plt.show()"
   ]
  },
  {
   "cell_type": "code",
   "execution_count": 57,
   "metadata": {},
   "outputs": [
    {
     "name": "stdout",
     "output_type": "stream",
     "text": [
      "[0 0 0 ... 0 2 4]\n"
     ]
    },
    {
     "data": {
      "text/plain": [
       "array([[ 1.18421053,  0.41507177],\n",
       "       [22.04      ,  8.        ],\n",
       "       [10.25352113,  3.08450704],\n",
       "       [46.        , 17.        ],\n",
       "       [ 4.12019231,  1.25961538]])"
      ]
     },
     "execution_count": 57,
     "metadata": {},
     "output_type": "execute_result"
    }
   ],
   "source": [
    "kmeans5 = KMeans(n_clusters=5)\n",
    "y_kmeans5 = kmeans5.fit_predict(x)\n",
    "print(y_kmeans5)\n",
    "\n",
    "kmeans5.cluster_centers_"
   ]
  },
  {
   "cell_type": "code",
   "execution_count": 59,
   "metadata": {},
   "outputs": [
    {
     "data": {
      "text/plain": [
       "<matplotlib.collections.PathCollection at 0x13221d90>"
      ]
     },
     "execution_count": 59,
     "metadata": {},
     "output_type": "execute_result"
    },
    {
     "data": {
      "image/png": "[encoded data removed]",
      "text/plain": [
       "<Figure size 432x288 with 1 Axes>"
      ]
     },
     "metadata": {},
     "output_type": "display_data"
    }
   ],
   "source": [
    "plt.scatter(x[:,0],x[:,1],c = y_kmeans5,cmap='rainbow')"
   ]
  },
  {
   "cell_type": "code",
   "execution_count": 63,
   "metadata": {},
   "outputs": [
    {
     "name": "stdout",
     "output_type": "stream",
     "text": [
      "[0 0 0 ... 0 2 2]\n"
     ]
    },
    {
     "data": {
      "text/plain": [
       "array([[ 1.3373494 ,  0.43921139],\n",
       "       [13.52941176,  4.19607843],\n",
       "       [ 5.42331288,  1.7791411 ],\n",
       "       [29.3125    , 10.875     ]])"
      ]
     },
     "execution_count": 63,
     "metadata": {},
     "output_type": "execute_result"
    }
   ],
   "source": [
    "kmeans4 = KMeans(n_clusters=4)\n",
    "y_kmeans4 = kmeans4.fit_predict(x)\n",
    "print(y_kmeans4)\n",
    "\n",
    "kmeans4.cluster_centers_"
   ]
  },
  {
   "cell_type": "code",
   "execution_count": 64,
   "metadata": {},
   "outputs": [
    {
     "data": {
      "text/plain": [
       "<matplotlib.collections.PathCollection at 0x132b4118>"
      ]
     },
     "execution_count": 64,
     "metadata": {},
     "output_type": "execute_result"
    },
    {
     "data": {
      "image/png": "[encoded data removed]",
      "text/plain": [
       "<Figure size 432x288 with 1 Axes>"
      ]
     },
     "metadata": {},
     "output_type": "display_data"
    }
   ],
   "source": [
    "plt.scatter(x[:,0],x[:,1],c = y_kmeans4,cmap='rainbow')"
   ]
  },
  {
   "cell_type": "code",
   "execution_count": 65,
   "metadata": {},
   "outputs": [
    {
     "data": {
      "image/png": "[encoded data removed]",
      "text/plain": [
       "<Figure size 432x288 with 1 Axes>"
      ]
     },
     "metadata": {},
     "output_type": "display_data"
    }
   ],
   "source": [
    "plt.scatter(x[:,0], x[:,1])\n",
    "plt.scatter(kmeans4.cluster_centers_[:, 0], kmeans4.cluster_centers_[:, 1], s=300, c='red')\n",
    "plt.show()"
   ]
  },
  {
   "cell_type": "code",
   "execution_count": 66,
   "metadata": {},
   "outputs": [
    {
     "data": {
      "image/png": "[encoded data removed]",
      "text/plain": [
       "<Figure size 432x288 with 1 Axes>"
      ]
     },
     "metadata": {},
     "output_type": "display_data"
    }
   ],
   "source": [
    "plt.scatter(x[:,0], x[:,1])\n",
    "plt.scatter(kmeans5.cluster_centers_[:, 0], kmeans5.cluster_centers_[:, 1], s=300, c='red')\n",
    "plt.show()"
   ]
  },
  {
   "cell_type": "code",
   "execution_count": 67,
   "metadata": {},
   "outputs": [
    {
     "name": "stdout",
     "output_type": "stream",
     "text": [
      "[0 0 0 ... 0 1 0]\n"
     ]
    },
    {
     "data": {
      "text/plain": [
       "array([[ 1.71829622,  0.56340755],\n",
       "       [10.63043478,  3.36956522],\n",
       "       [28.38888889, 10.38888889]])"
      ]
     },
     "execution_count": 67,
     "metadata": {},
     "output_type": "execute_result"
    }
   ],
   "source": [
    "kmeans3 = KMeans(n_clusters=3)\n",
    "y_kmeans3 = kmeans3.fit_predict(x)\n",
    "print(y_kmeans3)\n",
    "\n",
    "kmeans3.cluster_centers_"
   ]
  },
  {
   "cell_type": "code",
   "execution_count": 68,
   "metadata": {},
   "outputs": [
    {
     "data": {
      "text/plain": [
       "<matplotlib.collections.PathCollection at 0x133308f8>"
      ]
     },
     "execution_count": 68,
     "metadata": {},
     "output_type": "execute_result"
    },
    {
     "data": {
      "image/png": "[encoded data removed]",
      "text/plain": [
       "<Figure size 432x288 with 1 Axes>"
      ]
     },
     "metadata": {},
     "output_type": "display_data"
    }
   ],
   "source": [
    "plt.scatter(x[:,0],x[:,1],c = y_kmeans3,cmap='rainbow')"
   ]
  },
  {
   "cell_type": "code",
   "execution_count": 69,
   "metadata": {},
   "outputs": [
    {
     "data": {
      "image/png": "[encoded data removed]",
      "text/plain": [
       "<Figure size 432x288 with 1 Axes>"
      ]
     },
     "metadata": {},
     "output_type": "display_data"
    }
   ],
   "source": [
    "plt.scatter(x[:,0], x[:,1])\n",
    "plt.scatter(kmeans3.cluster_centers_[:, 0], kmeans3.cluster_centers_[:, 1], s=300, c='red')\n",
    "plt.show()"
   ]
  },
  {
   "cell_type": "markdown",
   "metadata": {},
   "source": [
    "<h4>We get 3 distinct clusters as the best</h4>\n"
   ]
  },
  {
   "cell_type": "code",
   "execution_count": 70,
   "metadata": {},
   "outputs": [],
   "source": [
    "data.to_csv(r'C:\\Users\\mahe\\Desktop\\Task 5\\Predicted_Approved.csv',index= False)"
   ]
  },
  {
   "cell_type": "code",
   "execution_count": null,
   "metadata": {},
   "outputs": [],
   "source": []
  }
 ],
 "metadata": {
  "kernelspec": {
   "display_name": "Python 3",
   "language": "python",
   "name": "python3"
  },
  "language_info": {
   "codemirror_mode": {
    "name": "ipython",
    "version": 3
   },
   "file_extension": ".py",
   "mimetype": "text/x-python",
   "name": "python",
   "nbconvert_exporter": "python",
   "pygments_lexer": "ipython3",
   "version": "3.8.2"
  }
 },
 "nbformat": 4,
 "nbformat_minor": 4
}
