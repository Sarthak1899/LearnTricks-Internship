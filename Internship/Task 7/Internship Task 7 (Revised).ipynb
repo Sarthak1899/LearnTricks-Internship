{
 "cells": [
  {
   "cell_type": "code",
   "execution_count": 1,
   "metadata": {},
   "outputs": [],
   "source": [
    "import pandas as pd"
   ]
  },
  {
   "cell_type": "code",
   "execution_count": 2,
   "metadata": {},
   "outputs": [
    {
     "name": "stderr",
     "output_type": "stream",
     "text": [
      "b'Skipping line 167: expected 3 fields, saw 4\\nSkipping line 168: expected 3 fields, saw 4\\nSkipping line 169: expected 3 fields, saw 4\\nSkipping line 170: expected 3 fields, saw 4\\nSkipping line 171: expected 3 fields, saw 4\\nSkipping line 172: expected 3 fields, saw 4\\nSkipping line 173: expected 3 fields, saw 4\\nSkipping line 174: expected 3 fields, saw 4\\nSkipping line 175: expected 3 fields, saw 4\\nSkipping line 176: expected 3 fields, saw 4\\nSkipping line 177: expected 3 fields, saw 4\\nSkipping line 178: expected 3 fields, saw 4\\nSkipping line 179: expected 3 fields, saw 4\\nSkipping line 180: expected 3 fields, saw 4\\nSkipping line 181: expected 3 fields, saw 4\\nSkipping line 182: expected 3 fields, saw 4\\nSkipping line 183: expected 3 fields, saw 4\\nSkipping line 184: expected 3 fields, saw 4\\nSkipping line 185: expected 3 fields, saw 4\\nSkipping line 186: expected 3 fields, saw 4\\nSkipping line 187: expected 3 fields, saw 4\\nSkipping line 188: expected 3 fields, saw 4\\nSkipping line 189: expected 3 fields, saw 4\\nSkipping line 190: expected 3 fields, saw 4\\nSkipping line 191: expected 3 fields, saw 4\\nSkipping line 192: expected 3 fields, saw 4\\nSkipping line 193: expected 3 fields, saw 4\\nSkipping line 194: expected 3 fields, saw 4\\nSkipping line 195: expected 3 fields, saw 4\\nSkipping line 196: expected 3 fields, saw 4\\nSkipping line 197: expected 3 fields, saw 4\\nSkipping line 198: expected 3 fields, saw 4\\nSkipping line 199: expected 3 fields, saw 4\\nSkipping line 200: expected 3 fields, saw 4\\nSkipping line 201: expected 3 fields, saw 4\\nSkipping line 202: expected 3 fields, saw 4\\nSkipping line 203: expected 3 fields, saw 4\\nSkipping line 204: expected 3 fields, saw 4\\nSkipping line 205: expected 3 fields, saw 4\\nSkipping line 206: expected 3 fields, saw 4\\nSkipping line 207: expected 3 fields, saw 4\\nSkipping line 208: expected 3 fields, saw 4\\nSkipping line 209: expected 3 fields, saw 4\\nSkipping line 210: expected 3 fields, saw 4\\nSkipping line 211: expected 3 fields, saw 4\\nSkipping line 212: expected 3 fields, saw 4\\nSkipping line 213: expected 3 fields, saw 4\\nSkipping line 214: expected 3 fields, saw 4\\nSkipping line 215: expected 3 fields, saw 4\\nSkipping line 216: expected 3 fields, saw 4\\nSkipping line 217: expected 3 fields, saw 4\\nSkipping line 218: expected 3 fields, saw 4\\nSkipping line 219: expected 3 fields, saw 4\\nSkipping line 220: expected 3 fields, saw 4\\nSkipping line 221: expected 3 fields, saw 4\\nSkipping line 222: expected 3 fields, saw 4\\nSkipping line 223: expected 3 fields, saw 4\\nSkipping line 224: expected 3 fields, saw 4\\nSkipping line 225: expected 3 fields, saw 4\\nSkipping line 226: expected 3 fields, saw 4\\nSkipping line 227: expected 3 fields, saw 4\\nSkipping line 228: expected 3 fields, saw 4\\nSkipping line 229: expected 3 fields, saw 4\\nSkipping line 230: expected 3 fields, saw 4\\nSkipping line 231: expected 3 fields, saw 4\\nSkipping line 232: expected 3 fields, saw 4\\nSkipping line 233: expected 3 fields, saw 4\\nSkipping line 234: expected 3 fields, saw 4\\nSkipping line 235: expected 3 fields, saw 4\\nSkipping line 236: expected 3 fields, saw 4\\nSkipping line 237: expected 3 fields, saw 4\\nSkipping line 238: expected 3 fields, saw 4\\nSkipping line 239: expected 3 fields, saw 4\\nSkipping line 240: expected 3 fields, saw 4\\nSkipping line 241: expected 3 fields, saw 4\\nSkipping line 242: expected 3 fields, saw 4\\nSkipping line 243: expected 3 fields, saw 4\\nSkipping line 244: expected 3 fields, saw 4\\nSkipping line 245: expected 3 fields, saw 4\\nSkipping line 246: expected 3 fields, saw 4\\nSkipping line 247: expected 3 fields, saw 4\\nSkipping line 248: expected 3 fields, saw 4\\nSkipping line 249: expected 3 fields, saw 4\\nSkipping line 250: expected 3 fields, saw 4\\nSkipping line 251: expected 3 fields, saw 4\\nSkipping line 252: expected 3 fields, saw 4\\nSkipping line 253: expected 3 fields, saw 4\\nSkipping line 254: expected 3 fields, saw 4\\nSkipping line 255: expected 3 fields, saw 4\\nSkipping line 256: expected 3 fields, saw 4\\nSkipping line 257: expected 3 fields, saw 4\\nSkipping line 258: expected 3 fields, saw 4\\nSkipping line 259: expected 3 fields, saw 4\\nSkipping line 260: expected 3 fields, saw 4\\n'\n"
     ]
    }
   ],
   "source": [
    "data = pd.read_csv(r'C:\\Users\\mahe\\Desktop\\Internship\\Task 7\\monthly_data_total.csv',error_bad_lines=False)"
   ]
  },
  {
   "cell_type": "code",
   "execution_count": 3,
   "metadata": {},
   "outputs": [
    {
     "data": {
      "text/plain": [
       "Date      object\n",
       "Import    object\n",
       "Export    object\n",
       "dtype: object"
      ]
     },
     "execution_count": 3,
     "metadata": {},
     "output_type": "execute_result"
    }
   ],
   "source": [
    "data.dtypes"
   ]
  },
  {
   "cell_type": "code",
   "execution_count": 4,
   "metadata": {},
   "outputs": [],
   "source": [
    "from datetime import datetime"
   ]
  },
  {
   "cell_type": "code",
   "execution_count": 5,
   "metadata": {},
   "outputs": [],
   "source": [
    "from dateutil.parser import parse"
   ]
  },
  {
   "cell_type": "code",
   "execution_count": 6,
   "metadata": {},
   "outputs": [],
   "source": [
    "data['Date']= \"1-\"+data['Date']"
   ]
  },
  {
   "cell_type": "code",
   "execution_count": 7,
   "metadata": {},
   "outputs": [
    {
     "data": {
      "text/html": [
       "<div>\n",
       "<style scoped>\n",
       "    .dataframe tbody tr th:only-of-type {\n",
       "        vertical-align: middle;\n",
       "    }\n",
       "\n",
       "    .dataframe tbody tr th {\n",
       "        vertical-align: top;\n",
       "    }\n",
       "\n",
       "    .dataframe thead th {\n",
       "        text-align: right;\n",
       "    }\n",
       "</style>\n",
       "<table border=\"1\" class=\"dataframe\">\n",
       "  <thead>\n",
       "    <tr style=\"text-align: right;\">\n",
       "      <th></th>\n",
       "      <th>Date</th>\n",
       "      <th>Import</th>\n",
       "      <th>Export</th>\n",
       "    </tr>\n",
       "  </thead>\n",
       "  <tbody>\n",
       "    <tr>\n",
       "      <th>0</th>\n",
       "      <td>1-Jan-06</td>\n",
       "      <td>12,519.71</td>\n",
       "      <td>9,143.66</td>\n",
       "    </tr>\n",
       "    <tr>\n",
       "      <th>1</th>\n",
       "      <td>1-Feb-06</td>\n",
       "      <td>11,479.69</td>\n",
       "      <td>8,993.29</td>\n",
       "    </tr>\n",
       "    <tr>\n",
       "      <th>2</th>\n",
       "      <td>1-Mar-06</td>\n",
       "      <td>14,314.02</td>\n",
       "      <td>11,560.97</td>\n",
       "    </tr>\n",
       "    <tr>\n",
       "      <th>3</th>\n",
       "      <td>1-Apr-06</td>\n",
       "      <td>12,924.18</td>\n",
       "      <td>8,624.66</td>\n",
       "    </tr>\n",
       "    <tr>\n",
       "      <th>4</th>\n",
       "      <td>1-May-06</td>\n",
       "      <td>15,105.67</td>\n",
       "      <td>10,109.30</td>\n",
       "    </tr>\n",
       "    <tr>\n",
       "      <th>...</th>\n",
       "      <td>...</td>\n",
       "      <td>...</td>\n",
       "      <td>...</td>\n",
       "    </tr>\n",
       "    <tr>\n",
       "      <th>160</th>\n",
       "      <td>1-May-19</td>\n",
       "      <td>46,618.80</td>\n",
       "      <td>29,854.24</td>\n",
       "    </tr>\n",
       "    <tr>\n",
       "      <th>161</th>\n",
       "      <td>1-Jun-19</td>\n",
       "      <td>40,941.24</td>\n",
       "      <td>24,990.77</td>\n",
       "    </tr>\n",
       "    <tr>\n",
       "      <th>162</th>\n",
       "      <td>1-Jul-19</td>\n",
       "      <td>39,773.89</td>\n",
       "      <td>26,217.50</td>\n",
       "    </tr>\n",
       "    <tr>\n",
       "      <th>163</th>\n",
       "      <td>1-Aug-19</td>\n",
       "      <td>39,558.33</td>\n",
       "      <td>26,133.50</td>\n",
       "    </tr>\n",
       "    <tr>\n",
       "      <th>164</th>\n",
       "      <td>1-Sep-19</td>\n",
       "      <td>37,346.35</td>\n",
       "      <td>26,086.02</td>\n",
       "    </tr>\n",
       "  </tbody>\n",
       "</table>\n",
       "<p>165 rows × 3 columns</p>\n",
       "</div>"
      ],
      "text/plain": [
       "         Date     Import     Export\n",
       "0    1-Jan-06  12,519.71   9,143.66\n",
       "1    1-Feb-06  11,479.69   8,993.29\n",
       "2    1-Mar-06  14,314.02  11,560.97\n",
       "3    1-Apr-06  12,924.18   8,624.66\n",
       "4    1-May-06  15,105.67  10,109.30\n",
       "..        ...        ...        ...\n",
       "160  1-May-19  46,618.80  29,854.24\n",
       "161  1-Jun-19  40,941.24  24,990.77\n",
       "162  1-Jul-19  39,773.89  26,217.50\n",
       "163  1-Aug-19  39,558.33  26,133.50\n",
       "164  1-Sep-19  37,346.35  26,086.02\n",
       "\n",
       "[165 rows x 3 columns]"
      ]
     },
     "execution_count": 7,
     "metadata": {},
     "output_type": "execute_result"
    }
   ],
   "source": [
    "data"
   ]
  },
  {
   "cell_type": "code",
   "execution_count": 8,
   "metadata": {},
   "outputs": [],
   "source": [
    "for ind in data.index: \n",
    "     dt = parse(data['Date'][ind])\n",
    "     data['Date'][ind]=dt.strftime('%m/%Y')"
   ]
  },
  {
   "cell_type": "code",
   "execution_count": 9,
   "metadata": {},
   "outputs": [
    {
     "data": {
      "text/html": [
       "<div>\n",
       "<style scoped>\n",
       "    .dataframe tbody tr th:only-of-type {\n",
       "        vertical-align: middle;\n",
       "    }\n",
       "\n",
       "    .dataframe tbody tr th {\n",
       "        vertical-align: top;\n",
       "    }\n",
       "\n",
       "    .dataframe thead th {\n",
       "        text-align: right;\n",
       "    }\n",
       "</style>\n",
       "<table border=\"1\" class=\"dataframe\">\n",
       "  <thead>\n",
       "    <tr style=\"text-align: right;\">\n",
       "      <th></th>\n",
       "      <th>Date</th>\n",
       "      <th>Import</th>\n",
       "      <th>Export</th>\n",
       "    </tr>\n",
       "  </thead>\n",
       "  <tbody>\n",
       "    <tr>\n",
       "      <th>0</th>\n",
       "      <td>01/2006</td>\n",
       "      <td>12,519.71</td>\n",
       "      <td>9,143.66</td>\n",
       "    </tr>\n",
       "    <tr>\n",
       "      <th>1</th>\n",
       "      <td>02/2006</td>\n",
       "      <td>11,479.69</td>\n",
       "      <td>8,993.29</td>\n",
       "    </tr>\n",
       "    <tr>\n",
       "      <th>2</th>\n",
       "      <td>03/2006</td>\n",
       "      <td>14,314.02</td>\n",
       "      <td>11,560.97</td>\n",
       "    </tr>\n",
       "    <tr>\n",
       "      <th>3</th>\n",
       "      <td>04/2006</td>\n",
       "      <td>12,924.18</td>\n",
       "      <td>8,624.66</td>\n",
       "    </tr>\n",
       "    <tr>\n",
       "      <th>4</th>\n",
       "      <td>05/2006</td>\n",
       "      <td>15,105.67</td>\n",
       "      <td>10,109.30</td>\n",
       "    </tr>\n",
       "    <tr>\n",
       "      <th>...</th>\n",
       "      <td>...</td>\n",
       "      <td>...</td>\n",
       "      <td>...</td>\n",
       "    </tr>\n",
       "    <tr>\n",
       "      <th>160</th>\n",
       "      <td>05/2019</td>\n",
       "      <td>46,618.80</td>\n",
       "      <td>29,854.24</td>\n",
       "    </tr>\n",
       "    <tr>\n",
       "      <th>161</th>\n",
       "      <td>06/2019</td>\n",
       "      <td>40,941.24</td>\n",
       "      <td>24,990.77</td>\n",
       "    </tr>\n",
       "    <tr>\n",
       "      <th>162</th>\n",
       "      <td>07/2019</td>\n",
       "      <td>39,773.89</td>\n",
       "      <td>26,217.50</td>\n",
       "    </tr>\n",
       "    <tr>\n",
       "      <th>163</th>\n",
       "      <td>08/2019</td>\n",
       "      <td>39,558.33</td>\n",
       "      <td>26,133.50</td>\n",
       "    </tr>\n",
       "    <tr>\n",
       "      <th>164</th>\n",
       "      <td>09/2019</td>\n",
       "      <td>37,346.35</td>\n",
       "      <td>26,086.02</td>\n",
       "    </tr>\n",
       "  </tbody>\n",
       "</table>\n",
       "<p>165 rows × 3 columns</p>\n",
       "</div>"
      ],
      "text/plain": [
       "        Date     Import     Export\n",
       "0    01/2006  12,519.71   9,143.66\n",
       "1    02/2006  11,479.69   8,993.29\n",
       "2    03/2006  14,314.02  11,560.97\n",
       "3    04/2006  12,924.18   8,624.66\n",
       "4    05/2006  15,105.67  10,109.30\n",
       "..       ...        ...        ...\n",
       "160  05/2019  46,618.80  29,854.24\n",
       "161  06/2019  40,941.24  24,990.77\n",
       "162  07/2019  39,773.89  26,217.50\n",
       "163  08/2019  39,558.33  26,133.50\n",
       "164  09/2019  37,346.35  26,086.02\n",
       "\n",
       "[165 rows x 3 columns]"
      ]
     },
     "execution_count": 9,
     "metadata": {},
     "output_type": "execute_result"
    }
   ],
   "source": [
    "data"
   ]
  },
  {
   "cell_type": "code",
   "execution_count": 10,
   "metadata": {},
   "outputs": [
    {
     "data": {
      "text/html": [
       "<div>\n",
       "<style scoped>\n",
       "    .dataframe tbody tr th:only-of-type {\n",
       "        vertical-align: middle;\n",
       "    }\n",
       "\n",
       "    .dataframe tbody tr th {\n",
       "        vertical-align: top;\n",
       "    }\n",
       "\n",
       "    .dataframe thead th {\n",
       "        text-align: right;\n",
       "    }\n",
       "</style>\n",
       "<table border=\"1\" class=\"dataframe\">\n",
       "  <thead>\n",
       "    <tr style=\"text-align: right;\">\n",
       "      <th></th>\n",
       "      <th>Date</th>\n",
       "      <th>Import</th>\n",
       "      <th>Export</th>\n",
       "      <th>Year</th>\n",
       "    </tr>\n",
       "  </thead>\n",
       "  <tbody>\n",
       "    <tr>\n",
       "      <th>0</th>\n",
       "      <td>01/2006</td>\n",
       "      <td>12,519.71</td>\n",
       "      <td>9,143.66</td>\n",
       "      <td>2006</td>\n",
       "    </tr>\n",
       "    <tr>\n",
       "      <th>1</th>\n",
       "      <td>02/2006</td>\n",
       "      <td>11,479.69</td>\n",
       "      <td>8,993.29</td>\n",
       "      <td>2006</td>\n",
       "    </tr>\n",
       "    <tr>\n",
       "      <th>2</th>\n",
       "      <td>03/2006</td>\n",
       "      <td>14,314.02</td>\n",
       "      <td>11,560.97</td>\n",
       "      <td>2006</td>\n",
       "    </tr>\n",
       "    <tr>\n",
       "      <th>3</th>\n",
       "      <td>04/2006</td>\n",
       "      <td>12,924.18</td>\n",
       "      <td>8,624.66</td>\n",
       "      <td>2006</td>\n",
       "    </tr>\n",
       "    <tr>\n",
       "      <th>4</th>\n",
       "      <td>05/2006</td>\n",
       "      <td>15,105.67</td>\n",
       "      <td>10,109.30</td>\n",
       "      <td>2006</td>\n",
       "    </tr>\n",
       "  </tbody>\n",
       "</table>\n",
       "</div>"
      ],
      "text/plain": [
       "      Date     Import     Export  Year\n",
       "0  01/2006  12,519.71   9,143.66  2006\n",
       "1  02/2006  11,479.69   8,993.29  2006\n",
       "2  03/2006  14,314.02  11,560.97  2006\n",
       "3  04/2006  12,924.18   8,624.66  2006\n",
       "4  05/2006  15,105.67  10,109.30  2006"
      ]
     },
     "execution_count": 10,
     "metadata": {},
     "output_type": "execute_result"
    }
   ],
   "source": [
    "data['Year'] = pd.DatetimeIndex(data['Date']).year\n",
    "data.head()"
   ]
  },
  {
   "cell_type": "code",
   "execution_count": 11,
   "metadata": {},
   "outputs": [
    {
     "data": {
      "text/html": [
       "<div>\n",
       "<style scoped>\n",
       "    .dataframe tbody tr th:only-of-type {\n",
       "        vertical-align: middle;\n",
       "    }\n",
       "\n",
       "    .dataframe tbody tr th {\n",
       "        vertical-align: top;\n",
       "    }\n",
       "\n",
       "    .dataframe thead th {\n",
       "        text-align: right;\n",
       "    }\n",
       "</style>\n",
       "<table border=\"1\" class=\"dataframe\">\n",
       "  <thead>\n",
       "    <tr style=\"text-align: right;\">\n",
       "      <th></th>\n",
       "      <th>Date</th>\n",
       "      <th>Import</th>\n",
       "      <th>Export</th>\n",
       "      <th>Year</th>\n",
       "      <th>Month</th>\n",
       "    </tr>\n",
       "  </thead>\n",
       "  <tbody>\n",
       "    <tr>\n",
       "      <th>0</th>\n",
       "      <td>01/2006</td>\n",
       "      <td>12,519.71</td>\n",
       "      <td>9,143.66</td>\n",
       "      <td>2006</td>\n",
       "      <td>1</td>\n",
       "    </tr>\n",
       "    <tr>\n",
       "      <th>1</th>\n",
       "      <td>02/2006</td>\n",
       "      <td>11,479.69</td>\n",
       "      <td>8,993.29</td>\n",
       "      <td>2006</td>\n",
       "      <td>2</td>\n",
       "    </tr>\n",
       "    <tr>\n",
       "      <th>2</th>\n",
       "      <td>03/2006</td>\n",
       "      <td>14,314.02</td>\n",
       "      <td>11,560.97</td>\n",
       "      <td>2006</td>\n",
       "      <td>3</td>\n",
       "    </tr>\n",
       "    <tr>\n",
       "      <th>3</th>\n",
       "      <td>04/2006</td>\n",
       "      <td>12,924.18</td>\n",
       "      <td>8,624.66</td>\n",
       "      <td>2006</td>\n",
       "      <td>4</td>\n",
       "    </tr>\n",
       "    <tr>\n",
       "      <th>4</th>\n",
       "      <td>05/2006</td>\n",
       "      <td>15,105.67</td>\n",
       "      <td>10,109.30</td>\n",
       "      <td>2006</td>\n",
       "      <td>5</td>\n",
       "    </tr>\n",
       "  </tbody>\n",
       "</table>\n",
       "</div>"
      ],
      "text/plain": [
       "      Date     Import     Export  Year  Month\n",
       "0  01/2006  12,519.71   9,143.66  2006      1\n",
       "1  02/2006  11,479.69   8,993.29  2006      2\n",
       "2  03/2006  14,314.02  11,560.97  2006      3\n",
       "3  04/2006  12,924.18   8,624.66  2006      4\n",
       "4  05/2006  15,105.67  10,109.30  2006      5"
      ]
     },
     "execution_count": 11,
     "metadata": {},
     "output_type": "execute_result"
    }
   ],
   "source": [
    "data['Month'] = pd.DatetimeIndex(data['Date']).month\n",
    "data.head()"
   ]
  },
  {
   "cell_type": "code",
   "execution_count": 12,
   "metadata": {},
   "outputs": [
    {
     "name": "stderr",
     "output_type": "stream",
     "text": [
      "<ipython-input-12-56d0d80b9898>:2: SettingWithCopyWarning: \n",
      "A value is trying to be set on a copy of a slice from a DataFrame\n",
      "\n",
      "See the caveats in the documentation: https://pandas.pydata.org/pandas-docs/stable/user_guide/indexing.html#returning-a-view-versus-a-copy\n",
      "  data['Export'][ind] = float(data['Export'][ind].replace(',',''))\n"
     ]
    }
   ],
   "source": [
    "for ind in data.index:\n",
    "    data['Export'][ind] = float(data['Export'][ind].replace(',',''))"
   ]
  },
  {
   "cell_type": "code",
   "execution_count": 13,
   "metadata": {},
   "outputs": [
    {
     "name": "stderr",
     "output_type": "stream",
     "text": [
      "<ipython-input-13-0911c8671904>:2: SettingWithCopyWarning: \n",
      "A value is trying to be set on a copy of a slice from a DataFrame\n",
      "\n",
      "See the caveats in the documentation: https://pandas.pydata.org/pandas-docs/stable/user_guide/indexing.html#returning-a-view-versus-a-copy\n",
      "  data['Import'][ind] = float(data['Import'][ind].replace(',',''))\n"
     ]
    }
   ],
   "source": [
    "for ind in data.index:\n",
    "    data['Import'][ind] = float(data['Import'][ind].replace(',',''))"
   ]
  },
  {
   "cell_type": "code",
   "execution_count": 14,
   "metadata": {},
   "outputs": [
    {
     "data": {
      "text/html": [
       "<div>\n",
       "<style scoped>\n",
       "    .dataframe tbody tr th:only-of-type {\n",
       "        vertical-align: middle;\n",
       "    }\n",
       "\n",
       "    .dataframe tbody tr th {\n",
       "        vertical-align: top;\n",
       "    }\n",
       "\n",
       "    .dataframe thead th {\n",
       "        text-align: right;\n",
       "    }\n",
       "</style>\n",
       "<table border=\"1\" class=\"dataframe\">\n",
       "  <thead>\n",
       "    <tr style=\"text-align: right;\">\n",
       "      <th></th>\n",
       "      <th>Date</th>\n",
       "      <th>Import</th>\n",
       "      <th>Export</th>\n",
       "      <th>Year</th>\n",
       "      <th>Month</th>\n",
       "    </tr>\n",
       "  </thead>\n",
       "  <tbody>\n",
       "    <tr>\n",
       "      <th>0</th>\n",
       "      <td>01/2006</td>\n",
       "      <td>12519.7</td>\n",
       "      <td>9143.66</td>\n",
       "      <td>2006</td>\n",
       "      <td>1</td>\n",
       "    </tr>\n",
       "    <tr>\n",
       "      <th>1</th>\n",
       "      <td>02/2006</td>\n",
       "      <td>11479.7</td>\n",
       "      <td>8993.29</td>\n",
       "      <td>2006</td>\n",
       "      <td>2</td>\n",
       "    </tr>\n",
       "    <tr>\n",
       "      <th>2</th>\n",
       "      <td>03/2006</td>\n",
       "      <td>14314</td>\n",
       "      <td>11561</td>\n",
       "      <td>2006</td>\n",
       "      <td>3</td>\n",
       "    </tr>\n",
       "    <tr>\n",
       "      <th>3</th>\n",
       "      <td>04/2006</td>\n",
       "      <td>12924.2</td>\n",
       "      <td>8624.66</td>\n",
       "      <td>2006</td>\n",
       "      <td>4</td>\n",
       "    </tr>\n",
       "    <tr>\n",
       "      <th>4</th>\n",
       "      <td>05/2006</td>\n",
       "      <td>15105.7</td>\n",
       "      <td>10109.3</td>\n",
       "      <td>2006</td>\n",
       "      <td>5</td>\n",
       "    </tr>\n",
       "    <tr>\n",
       "      <th>...</th>\n",
       "      <td>...</td>\n",
       "      <td>...</td>\n",
       "      <td>...</td>\n",
       "      <td>...</td>\n",
       "      <td>...</td>\n",
       "    </tr>\n",
       "    <tr>\n",
       "      <th>160</th>\n",
       "      <td>05/2019</td>\n",
       "      <td>46618.8</td>\n",
       "      <td>29854.2</td>\n",
       "      <td>2019</td>\n",
       "      <td>5</td>\n",
       "    </tr>\n",
       "    <tr>\n",
       "      <th>161</th>\n",
       "      <td>06/2019</td>\n",
       "      <td>40941.2</td>\n",
       "      <td>24990.8</td>\n",
       "      <td>2019</td>\n",
       "      <td>6</td>\n",
       "    </tr>\n",
       "    <tr>\n",
       "      <th>162</th>\n",
       "      <td>07/2019</td>\n",
       "      <td>39773.9</td>\n",
       "      <td>26217.5</td>\n",
       "      <td>2019</td>\n",
       "      <td>7</td>\n",
       "    </tr>\n",
       "    <tr>\n",
       "      <th>163</th>\n",
       "      <td>08/2019</td>\n",
       "      <td>39558.3</td>\n",
       "      <td>26133.5</td>\n",
       "      <td>2019</td>\n",
       "      <td>8</td>\n",
       "    </tr>\n",
       "    <tr>\n",
       "      <th>164</th>\n",
       "      <td>09/2019</td>\n",
       "      <td>37346.3</td>\n",
       "      <td>26086</td>\n",
       "      <td>2019</td>\n",
       "      <td>9</td>\n",
       "    </tr>\n",
       "  </tbody>\n",
       "</table>\n",
       "<p>165 rows × 5 columns</p>\n",
       "</div>"
      ],
      "text/plain": [
       "        Date   Import   Export  Year  Month\n",
       "0    01/2006  12519.7  9143.66  2006      1\n",
       "1    02/2006  11479.7  8993.29  2006      2\n",
       "2    03/2006    14314    11561  2006      3\n",
       "3    04/2006  12924.2  8624.66  2006      4\n",
       "4    05/2006  15105.7  10109.3  2006      5\n",
       "..       ...      ...      ...   ...    ...\n",
       "160  05/2019  46618.8  29854.2  2019      5\n",
       "161  06/2019  40941.2  24990.8  2019      6\n",
       "162  07/2019  39773.9  26217.5  2019      7\n",
       "163  08/2019  39558.3  26133.5  2019      8\n",
       "164  09/2019  37346.3    26086  2019      9\n",
       "\n",
       "[165 rows x 5 columns]"
      ]
     },
     "execution_count": 14,
     "metadata": {},
     "output_type": "execute_result"
    }
   ],
   "source": [
    "data"
   ]
  },
  {
   "cell_type": "code",
   "execution_count": 15,
   "metadata": {},
   "outputs": [],
   "source": [
    "data['Import'] = data['Import'].astype(float)"
   ]
  },
  {
   "cell_type": "code",
   "execution_count": 16,
   "metadata": {},
   "outputs": [],
   "source": [
    "data['Export'] = data['Export'].astype(float)"
   ]
  },
  {
   "cell_type": "code",
   "execution_count": 17,
   "metadata": {},
   "outputs": [
    {
     "data": {
      "text/plain": [
       "Date       object\n",
       "Import    float64\n",
       "Export    float64\n",
       "Year        int64\n",
       "Month       int64\n",
       "dtype: object"
      ]
     },
     "execution_count": 17,
     "metadata": {},
     "output_type": "execute_result"
    }
   ],
   "source": [
    "data.dtypes"
   ]
  },
  {
   "cell_type": "code",
   "execution_count": 20,
   "metadata": {},
   "outputs": [],
   "source": [
    "data['quarter'] = pd.DatetimeIndex(data['Date']).quarter"
   ]
  },
  {
   "cell_type": "code",
   "execution_count": 21,
   "metadata": {},
   "outputs": [
    {
     "data": {
      "text/html": [
       "<div>\n",
       "<style scoped>\n",
       "    .dataframe tbody tr th:only-of-type {\n",
       "        vertical-align: middle;\n",
       "    }\n",
       "\n",
       "    .dataframe tbody tr th {\n",
       "        vertical-align: top;\n",
       "    }\n",
       "\n",
       "    .dataframe thead th {\n",
       "        text-align: right;\n",
       "    }\n",
       "</style>\n",
       "<table border=\"1\" class=\"dataframe\">\n",
       "  <thead>\n",
       "    <tr style=\"text-align: right;\">\n",
       "      <th></th>\n",
       "      <th>Date</th>\n",
       "      <th>Import</th>\n",
       "      <th>Export</th>\n",
       "      <th>Year</th>\n",
       "      <th>Month</th>\n",
       "      <th>quarter</th>\n",
       "    </tr>\n",
       "  </thead>\n",
       "  <tbody>\n",
       "    <tr>\n",
       "      <th>0</th>\n",
       "      <td>01/2006</td>\n",
       "      <td>12519.71</td>\n",
       "      <td>9143.66</td>\n",
       "      <td>2006</td>\n",
       "      <td>1</td>\n",
       "      <td>1</td>\n",
       "    </tr>\n",
       "    <tr>\n",
       "      <th>1</th>\n",
       "      <td>02/2006</td>\n",
       "      <td>11479.69</td>\n",
       "      <td>8993.29</td>\n",
       "      <td>2006</td>\n",
       "      <td>2</td>\n",
       "      <td>1</td>\n",
       "    </tr>\n",
       "    <tr>\n",
       "      <th>2</th>\n",
       "      <td>03/2006</td>\n",
       "      <td>14314.02</td>\n",
       "      <td>11560.97</td>\n",
       "      <td>2006</td>\n",
       "      <td>3</td>\n",
       "      <td>1</td>\n",
       "    </tr>\n",
       "    <tr>\n",
       "      <th>3</th>\n",
       "      <td>04/2006</td>\n",
       "      <td>12924.18</td>\n",
       "      <td>8624.66</td>\n",
       "      <td>2006</td>\n",
       "      <td>4</td>\n",
       "      <td>2</td>\n",
       "    </tr>\n",
       "    <tr>\n",
       "      <th>4</th>\n",
       "      <td>05/2006</td>\n",
       "      <td>15105.67</td>\n",
       "      <td>10109.30</td>\n",
       "      <td>2006</td>\n",
       "      <td>5</td>\n",
       "      <td>2</td>\n",
       "    </tr>\n",
       "    <tr>\n",
       "      <th>...</th>\n",
       "      <td>...</td>\n",
       "      <td>...</td>\n",
       "      <td>...</td>\n",
       "      <td>...</td>\n",
       "      <td>...</td>\n",
       "      <td>...</td>\n",
       "    </tr>\n",
       "    <tr>\n",
       "      <th>160</th>\n",
       "      <td>05/2019</td>\n",
       "      <td>46618.80</td>\n",
       "      <td>29854.24</td>\n",
       "      <td>2019</td>\n",
       "      <td>5</td>\n",
       "      <td>2</td>\n",
       "    </tr>\n",
       "    <tr>\n",
       "      <th>161</th>\n",
       "      <td>06/2019</td>\n",
       "      <td>40941.24</td>\n",
       "      <td>24990.77</td>\n",
       "      <td>2019</td>\n",
       "      <td>6</td>\n",
       "      <td>2</td>\n",
       "    </tr>\n",
       "    <tr>\n",
       "      <th>162</th>\n",
       "      <td>07/2019</td>\n",
       "      <td>39773.89</td>\n",
       "      <td>26217.50</td>\n",
       "      <td>2019</td>\n",
       "      <td>7</td>\n",
       "      <td>3</td>\n",
       "    </tr>\n",
       "    <tr>\n",
       "      <th>163</th>\n",
       "      <td>08/2019</td>\n",
       "      <td>39558.33</td>\n",
       "      <td>26133.50</td>\n",
       "      <td>2019</td>\n",
       "      <td>8</td>\n",
       "      <td>3</td>\n",
       "    </tr>\n",
       "    <tr>\n",
       "      <th>164</th>\n",
       "      <td>09/2019</td>\n",
       "      <td>37346.35</td>\n",
       "      <td>26086.02</td>\n",
       "      <td>2019</td>\n",
       "      <td>9</td>\n",
       "      <td>3</td>\n",
       "    </tr>\n",
       "  </tbody>\n",
       "</table>\n",
       "<p>165 rows × 6 columns</p>\n",
       "</div>"
      ],
      "text/plain": [
       "        Date    Import    Export  Year  Month  quarter\n",
       "0    01/2006  12519.71   9143.66  2006      1        1\n",
       "1    02/2006  11479.69   8993.29  2006      2        1\n",
       "2    03/2006  14314.02  11560.97  2006      3        1\n",
       "3    04/2006  12924.18   8624.66  2006      4        2\n",
       "4    05/2006  15105.67  10109.30  2006      5        2\n",
       "..       ...       ...       ...   ...    ...      ...\n",
       "160  05/2019  46618.80  29854.24  2019      5        2\n",
       "161  06/2019  40941.24  24990.77  2019      6        2\n",
       "162  07/2019  39773.89  26217.50  2019      7        3\n",
       "163  08/2019  39558.33  26133.50  2019      8        3\n",
       "164  09/2019  37346.35  26086.02  2019      9        3\n",
       "\n",
       "[165 rows x 6 columns]"
      ]
     },
     "execution_count": 21,
     "metadata": {},
     "output_type": "execute_result"
    }
   ],
   "source": [
    "data"
   ]
  },
  {
   "cell_type": "code",
   "execution_count": 23,
   "metadata": {},
   "outputs": [],
   "source": [
    "data['Number of Days'] = pd.DatetimeIndex(data['Date']).days_in_month"
   ]
  },
  {
   "cell_type": "code",
   "execution_count": 25,
   "metadata": {},
   "outputs": [
    {
     "data": {
      "text/html": [
       "<div>\n",
       "<style scoped>\n",
       "    .dataframe tbody tr th:only-of-type {\n",
       "        vertical-align: middle;\n",
       "    }\n",
       "\n",
       "    .dataframe tbody tr th {\n",
       "        vertical-align: top;\n",
       "    }\n",
       "\n",
       "    .dataframe thead th {\n",
       "        text-align: right;\n",
       "    }\n",
       "</style>\n",
       "<table border=\"1\" class=\"dataframe\">\n",
       "  <thead>\n",
       "    <tr style=\"text-align: right;\">\n",
       "      <th></th>\n",
       "      <th>Date</th>\n",
       "      <th>Import</th>\n",
       "      <th>Export</th>\n",
       "      <th>Year</th>\n",
       "      <th>Month</th>\n",
       "      <th>quarter</th>\n",
       "      <th>Number of Days</th>\n",
       "    </tr>\n",
       "  </thead>\n",
       "  <tbody>\n",
       "    <tr>\n",
       "      <th>72</th>\n",
       "      <td>01/2012</td>\n",
       "      <td>42952.10</td>\n",
       "      <td>25378.65</td>\n",
       "      <td>2012</td>\n",
       "      <td>1</td>\n",
       "      <td>1</td>\n",
       "      <td>31</td>\n",
       "    </tr>\n",
       "    <tr>\n",
       "      <th>73</th>\n",
       "      <td>02/2012</td>\n",
       "      <td>40118.17</td>\n",
       "      <td>25194.02</td>\n",
       "      <td>2012</td>\n",
       "      <td>2</td>\n",
       "      <td>1</td>\n",
       "      <td>29</td>\n",
       "    </tr>\n",
       "    <tr>\n",
       "      <th>74</th>\n",
       "      <td>03/2012</td>\n",
       "      <td>42380.31</td>\n",
       "      <td>28838.95</td>\n",
       "      <td>2012</td>\n",
       "      <td>3</td>\n",
       "      <td>1</td>\n",
       "      <td>31</td>\n",
       "    </tr>\n",
       "    <tr>\n",
       "      <th>75</th>\n",
       "      <td>04/2012</td>\n",
       "      <td>38170.67</td>\n",
       "      <td>23791.45</td>\n",
       "      <td>2012</td>\n",
       "      <td>4</td>\n",
       "      <td>2</td>\n",
       "      <td>30</td>\n",
       "    </tr>\n",
       "    <tr>\n",
       "      <th>76</th>\n",
       "      <td>05/2012</td>\n",
       "      <td>42186.94</td>\n",
       "      <td>24821.03</td>\n",
       "      <td>2012</td>\n",
       "      <td>5</td>\n",
       "      <td>2</td>\n",
       "      <td>31</td>\n",
       "    </tr>\n",
       "    <tr>\n",
       "      <th>77</th>\n",
       "      <td>06/2012</td>\n",
       "      <td>36157.00</td>\n",
       "      <td>24923.86</td>\n",
       "      <td>2012</td>\n",
       "      <td>6</td>\n",
       "      <td>2</td>\n",
       "      <td>30</td>\n",
       "    </tr>\n",
       "    <tr>\n",
       "      <th>78</th>\n",
       "      <td>07/2012</td>\n",
       "      <td>40619.07</td>\n",
       "      <td>23099.47</td>\n",
       "      <td>2012</td>\n",
       "      <td>7</td>\n",
       "      <td>3</td>\n",
       "      <td>31</td>\n",
       "    </tr>\n",
       "    <tr>\n",
       "      <th>79</th>\n",
       "      <td>08/2012</td>\n",
       "      <td>37306.89</td>\n",
       "      <td>23134.07</td>\n",
       "      <td>2012</td>\n",
       "      <td>8</td>\n",
       "      <td>3</td>\n",
       "      <td>31</td>\n",
       "    </tr>\n",
       "    <tr>\n",
       "      <th>80</th>\n",
       "      <td>09/2012</td>\n",
       "      <td>42051.08</td>\n",
       "      <td>24901.60</td>\n",
       "      <td>2012</td>\n",
       "      <td>9</td>\n",
       "      <td>3</td>\n",
       "      <td>30</td>\n",
       "    </tr>\n",
       "    <tr>\n",
       "      <th>81</th>\n",
       "      <td>10/2012</td>\n",
       "      <td>44243.38</td>\n",
       "      <td>24032.50</td>\n",
       "      <td>2012</td>\n",
       "      <td>10</td>\n",
       "      <td>4</td>\n",
       "      <td>31</td>\n",
       "    </tr>\n",
       "    <tr>\n",
       "      <th>82</th>\n",
       "      <td>11/2012</td>\n",
       "      <td>40453.64</td>\n",
       "      <td>23250.54</td>\n",
       "      <td>2012</td>\n",
       "      <td>11</td>\n",
       "      <td>4</td>\n",
       "      <td>30</td>\n",
       "    </tr>\n",
       "    <tr>\n",
       "      <th>83</th>\n",
       "      <td>12/2012</td>\n",
       "      <td>43050.20</td>\n",
       "      <td>25457.13</td>\n",
       "      <td>2012</td>\n",
       "      <td>12</td>\n",
       "      <td>4</td>\n",
       "      <td>31</td>\n",
       "    </tr>\n",
       "  </tbody>\n",
       "</table>\n",
       "</div>"
      ],
      "text/plain": [
       "       Date    Import    Export  Year  Month  quarter  Number of Days\n",
       "72  01/2012  42952.10  25378.65  2012      1        1              31\n",
       "73  02/2012  40118.17  25194.02  2012      2        1              29\n",
       "74  03/2012  42380.31  28838.95  2012      3        1              31\n",
       "75  04/2012  38170.67  23791.45  2012      4        2              30\n",
       "76  05/2012  42186.94  24821.03  2012      5        2              31\n",
       "77  06/2012  36157.00  24923.86  2012      6        2              30\n",
       "78  07/2012  40619.07  23099.47  2012      7        3              31\n",
       "79  08/2012  37306.89  23134.07  2012      8        3              31\n",
       "80  09/2012  42051.08  24901.60  2012      9        3              30\n",
       "81  10/2012  44243.38  24032.50  2012     10        4              31\n",
       "82  11/2012  40453.64  23250.54  2012     11        4              30\n",
       "83  12/2012  43050.20  25457.13  2012     12        4              31"
      ]
     },
     "execution_count": 25,
     "metadata": {},
     "output_type": "execute_result"
    }
   ],
   "source": [
    "data[data['Year']==2012]"
   ]
  },
  {
   "cell_type": "code",
   "execution_count": 28,
   "metadata": {},
   "outputs": [],
   "source": [
    "import xgboost as xgb"
   ]
  },
  {
   "cell_type": "code",
   "execution_count": 29,
   "metadata": {},
   "outputs": [],
   "source": [
    "X = data.drop(['Date','Import','Export'],axis =1)\n",
    "Y1 = data['Import']\n",
    "Y2 = data['Export']"
   ]
  },
  {
   "cell_type": "code",
   "execution_count": 30,
   "metadata": {},
   "outputs": [],
   "source": [
    "data_dmatrix = xgb.DMatrix(data=X,label=Y1)"
   ]
  },
  {
   "cell_type": "code",
   "execution_count": 31,
   "metadata": {},
   "outputs": [],
   "source": [
    "from sklearn.model_selection import train_test_split\n",
    "\n",
    "X_train, X_test, y_train, y_test = train_test_split(X, Y1, test_size=0.2, random_state=123)"
   ]
  },
  {
   "cell_type": "code",
   "execution_count": 56,
   "metadata": {},
   "outputs": [],
   "source": [
    "reg = xgb.XGBRegressor(n_estimators=1000)"
   ]
  },
  {
   "cell_type": "code",
   "execution_count": 57,
   "metadata": {},
   "outputs": [
    {
     "data": {
      "text/plain": [
       "XGBRegressor(base_score=0.5, booster=None, colsample_bylevel=1,\n",
       "             colsample_bynode=1, colsample_bytree=1, gamma=0, gpu_id=-1,\n",
       "             importance_type='gain', interaction_constraints=None,\n",
       "             learning_rate=0.300000012, max_delta_step=0, max_depth=6,\n",
       "             min_child_weight=1, missing=nan, monotone_constraints=None,\n",
       "             n_estimators=1000, n_jobs=0, num_parallel_tree=1,\n",
       "             objective='reg:squarederror', random_state=0, reg_alpha=0,\n",
       "             reg_lambda=1, scale_pos_weight=1, subsample=1, tree_method=None,\n",
       "             validate_parameters=False, verbosity=None)"
      ]
     },
     "execution_count": 57,
     "metadata": {},
     "output_type": "execute_result"
    }
   ],
   "source": [
    "reg.fit(X_train, y_train,\n",
    "        eval_set=[(X_train, y_train), (X_test, y_test)],\n",
    "        early_stopping_rounds=50,\n",
    "       verbose=False)"
   ]
  },
  {
   "cell_type": "code",
   "execution_count": 58,
   "metadata": {},
   "outputs": [
    {
     "data": {
      "text/plain": [
       "0.9988797295606112"
      ]
     },
     "execution_count": 58,
     "metadata": {},
     "output_type": "execute_result"
    }
   ],
   "source": [
    "reg.score(X_train,y_train)"
   ]
  },
  {
   "cell_type": "code",
   "execution_count": 59,
   "metadata": {},
   "outputs": [],
   "source": [
    "pred_xg = reg.predict(X_test)"
   ]
  },
  {
   "cell_type": "code",
   "execution_count": 60,
   "metadata": {},
   "outputs": [
    {
     "name": "stdout",
     "output_type": "stream",
     "text": [
      "RMSE: 2491.326874\n"
     ]
    }
   ],
   "source": [
    "import numpy as np\n",
    "from sklearn.metrics import mean_squared_error\n",
    "rmse = np.sqrt(mean_squared_error(y_test, pred_xg))\n",
    "print(\"RMSE: %f\" % (rmse))"
   ]
  },
  {
   "cell_type": "code",
   "execution_count": 61,
   "metadata": {},
   "outputs": [
    {
     "data": {
      "text/plain": [
       "0.9291221504514213"
      ]
     },
     "execution_count": 61,
     "metadata": {},
     "output_type": "execute_result"
    }
   ],
   "source": [
    "reg.score(X_test,y_test)"
   ]
  },
  {
   "cell_type": "code",
   "execution_count": 62,
   "metadata": {},
   "outputs": [
    {
     "data": {
      "image/png": "[encoded data removed]",
      "text/plain": [
       "<Figure size 432x288 with 1 Axes>"
      ]
     },
     "metadata": {
      "needs_background": "light"
     },
     "output_type": "display_data"
    }
   ],
   "source": [
    "from xgboost import plot_importance, plot_tree\n",
    "_ = plot_importance(reg, height=0.9)"
   ]
  },
  {
   "cell_type": "code",
   "execution_count": 63,
   "metadata": {},
   "outputs": [],
   "source": [
    "X_train2, X_test2, y_train2, y_test2 = train_test_split(X, Y2, test_size=0.2, random_state=123)"
   ]
  },
  {
   "cell_type": "code",
   "execution_count": 64,
   "metadata": {},
   "outputs": [],
   "source": [
    "reg2 = xgb.XGBRegressor(n_estimators=1000)"
   ]
  },
  {
   "cell_type": "code",
   "execution_count": 65,
   "metadata": {},
   "outputs": [
    {
     "data": {
      "text/plain": [
       "XGBRegressor(base_score=0.5, booster=None, colsample_bylevel=1,\n",
       "             colsample_bynode=1, colsample_bytree=1, gamma=0, gpu_id=-1,\n",
       "             importance_type='gain', interaction_constraints=None,\n",
       "             learning_rate=0.300000012, max_delta_step=0, max_depth=6,\n",
       "             min_child_weight=1, missing=nan, monotone_constraints=None,\n",
       "             n_estimators=1000, n_jobs=0, num_parallel_tree=1,\n",
       "             objective='reg:squarederror', random_state=0, reg_alpha=0,\n",
       "             reg_lambda=1, scale_pos_weight=1, subsample=1, tree_method=None,\n",
       "             validate_parameters=False, verbosity=None)"
      ]
     },
     "execution_count": 65,
     "metadata": {},
     "output_type": "execute_result"
    }
   ],
   "source": [
    "reg2.fit(X_train2, y_train2,\n",
    "        eval_set=[(X_train2, y_train2), (X_test2, y_test2)],\n",
    "        early_stopping_rounds=50,\n",
    "       verbose=False)"
   ]
  },
  {
   "cell_type": "code",
   "execution_count": 66,
   "metadata": {},
   "outputs": [
    {
     "data": {
      "text/plain": [
       "0.999484380464443"
      ]
     },
     "execution_count": 66,
     "metadata": {},
     "output_type": "execute_result"
    }
   ],
   "source": [
    "reg2.score(X_train2,y_train2)"
   ]
  },
  {
   "cell_type": "code",
   "execution_count": 67,
   "metadata": {},
   "outputs": [],
   "source": [
    "pred_xg2 = reg2.predict(X_test2)"
   ]
  },
  {
   "cell_type": "code",
   "execution_count": 68,
   "metadata": {},
   "outputs": [
    {
     "name": "stdout",
     "output_type": "stream",
     "text": [
      "RMSE: 1755.620667\n"
     ]
    }
   ],
   "source": [
    "rmse = np.sqrt(mean_squared_error(y_test2, pred_xg2))\n",
    "print(\"RMSE: %f\" % (rmse))"
   ]
  },
  {
   "cell_type": "code",
   "execution_count": 69,
   "metadata": {},
   "outputs": [
    {
     "data": {
      "text/plain": [
       "0.9179959958999687"
      ]
     },
     "execution_count": 69,
     "metadata": {},
     "output_type": "execute_result"
    }
   ],
   "source": [
    "reg2.score(X_test2,y_test2)"
   ]
  },
  {
   "cell_type": "code",
   "execution_count": 70,
   "metadata": {},
   "outputs": [],
   "source": [
    "da = [[2019, 10, 4, 31],[2019,11,4,30],[2019,12,4,31]]"
   ]
  },
  {
   "cell_type": "code",
   "execution_count": 74,
   "metadata": {},
   "outputs": [],
   "source": [
    "df = pd.DataFrame(da, columns = ['Year', 'Month','quarter','Number of Days'])"
   ]
  },
  {
   "cell_type": "code",
   "execution_count": 75,
   "metadata": {},
   "outputs": [
    {
     "data": {
      "text/html": [
       "<div>\n",
       "<style scoped>\n",
       "    .dataframe tbody tr th:only-of-type {\n",
       "        vertical-align: middle;\n",
       "    }\n",
       "\n",
       "    .dataframe tbody tr th {\n",
       "        vertical-align: top;\n",
       "    }\n",
       "\n",
       "    .dataframe thead th {\n",
       "        text-align: right;\n",
       "    }\n",
       "</style>\n",
       "<table border=\"1\" class=\"dataframe\">\n",
       "  <thead>\n",
       "    <tr style=\"text-align: right;\">\n",
       "      <th></th>\n",
       "      <th>Year</th>\n",
       "      <th>Month</th>\n",
       "      <th>quarter</th>\n",
       "      <th>Number of Days</th>\n",
       "    </tr>\n",
       "  </thead>\n",
       "  <tbody>\n",
       "    <tr>\n",
       "      <th>0</th>\n",
       "      <td>2019</td>\n",
       "      <td>10</td>\n",
       "      <td>4</td>\n",
       "      <td>31</td>\n",
       "    </tr>\n",
       "    <tr>\n",
       "      <th>1</th>\n",
       "      <td>2019</td>\n",
       "      <td>11</td>\n",
       "      <td>4</td>\n",
       "      <td>30</td>\n",
       "    </tr>\n",
       "    <tr>\n",
       "      <th>2</th>\n",
       "      <td>2019</td>\n",
       "      <td>12</td>\n",
       "      <td>4</td>\n",
       "      <td>31</td>\n",
       "    </tr>\n",
       "  </tbody>\n",
       "</table>\n",
       "</div>"
      ],
      "text/plain": [
       "   Year  Month  quarter  Number of Days\n",
       "0  2019     10        4              31\n",
       "1  2019     11        4              30\n",
       "2  2019     12        4              31"
      ]
     },
     "execution_count": 75,
     "metadata": {},
     "output_type": "execute_result"
    }
   ],
   "source": [
    "df"
   ]
  },
  {
   "cell_type": "code",
   "execution_count": 76,
   "metadata": {},
   "outputs": [],
   "source": [
    "pred_xg_import = reg.predict(df)"
   ]
  },
  {
   "cell_type": "code",
   "execution_count": 77,
   "metadata": {},
   "outputs": [],
   "source": [
    "pred_xg_export = reg2.predict(df)"
   ]
  },
  {
   "cell_type": "code",
   "execution_count": 78,
   "metadata": {},
   "outputs": [],
   "source": [
    "df['Import'] = pred_xg_import"
   ]
  },
  {
   "cell_type": "code",
   "execution_count": 79,
   "metadata": {},
   "outputs": [],
   "source": [
    "df['Export'] = pred_xg_export"
   ]
  },
  {
   "cell_type": "code",
   "execution_count": 80,
   "metadata": {},
   "outputs": [
    {
     "data": {
      "text/html": [
       "<div>\n",
       "<style scoped>\n",
       "    .dataframe tbody tr th:only-of-type {\n",
       "        vertical-align: middle;\n",
       "    }\n",
       "\n",
       "    .dataframe tbody tr th {\n",
       "        vertical-align: top;\n",
       "    }\n",
       "\n",
       "    .dataframe thead th {\n",
       "        text-align: right;\n",
       "    }\n",
       "</style>\n",
       "<table border=\"1\" class=\"dataframe\">\n",
       "  <thead>\n",
       "    <tr style=\"text-align: right;\">\n",
       "      <th></th>\n",
       "      <th>Year</th>\n",
       "      <th>Month</th>\n",
       "      <th>quarter</th>\n",
       "      <th>Number of Days</th>\n",
       "      <th>Import</th>\n",
       "      <th>Export</th>\n",
       "    </tr>\n",
       "  </thead>\n",
       "  <tbody>\n",
       "    <tr>\n",
       "      <th>0</th>\n",
       "      <td>2019</td>\n",
       "      <td>10</td>\n",
       "      <td>4</td>\n",
       "      <td>31</td>\n",
       "      <td>39500.183594</td>\n",
       "      <td>26143.255859</td>\n",
       "    </tr>\n",
       "    <tr>\n",
       "      <th>1</th>\n",
       "      <td>2019</td>\n",
       "      <td>11</td>\n",
       "      <td>4</td>\n",
       "      <td>30</td>\n",
       "      <td>38119.886719</td>\n",
       "      <td>25372.888672</td>\n",
       "    </tr>\n",
       "    <tr>\n",
       "      <th>2</th>\n",
       "      <td>2019</td>\n",
       "      <td>12</td>\n",
       "      <td>4</td>\n",
       "      <td>31</td>\n",
       "      <td>38760.113281</td>\n",
       "      <td>27860.779297</td>\n",
       "    </tr>\n",
       "  </tbody>\n",
       "</table>\n",
       "</div>"
      ],
      "text/plain": [
       "   Year  Month  quarter  Number of Days        Import        Export\n",
       "0  2019     10        4              31  39500.183594  26143.255859\n",
       "1  2019     11        4              30  38119.886719  25372.888672\n",
       "2  2019     12        4              31  38760.113281  27860.779297"
      ]
     },
     "execution_count": 80,
     "metadata": {},
     "output_type": "execute_result"
    }
   ],
   "source": [
    "df"
   ]
  },
  {
   "cell_type": "code",
   "execution_count": 81,
   "metadata": {},
   "outputs": [
    {
     "data": {
      "text/html": [
       "<div>\n",
       "<style scoped>\n",
       "    .dataframe tbody tr th:only-of-type {\n",
       "        vertical-align: middle;\n",
       "    }\n",
       "\n",
       "    .dataframe tbody tr th {\n",
       "        vertical-align: top;\n",
       "    }\n",
       "\n",
       "    .dataframe thead th {\n",
       "        text-align: right;\n",
       "    }\n",
       "</style>\n",
       "<table border=\"1\" class=\"dataframe\">\n",
       "  <thead>\n",
       "    <tr style=\"text-align: right;\">\n",
       "      <th></th>\n",
       "      <th>Import</th>\n",
       "      <th>Export</th>\n",
       "      <th>Year</th>\n",
       "      <th>Month</th>\n",
       "      <th>quarter</th>\n",
       "      <th>Number of Days</th>\n",
       "    </tr>\n",
       "  </thead>\n",
       "  <tbody>\n",
       "    <tr>\n",
       "      <th>count</th>\n",
       "      <td>165.000000</td>\n",
       "      <td>165.000000</td>\n",
       "      <td>165.000000</td>\n",
       "      <td>165.000000</td>\n",
       "      <td>165.000000</td>\n",
       "      <td>165.000000</td>\n",
       "    </tr>\n",
       "    <tr>\n",
       "      <th>mean</th>\n",
       "      <td>32172.849333</td>\n",
       "      <td>21185.384848</td>\n",
       "      <td>2012.381818</td>\n",
       "      <td>6.418182</td>\n",
       "      <td>2.472727</td>\n",
       "      <td>30.430303</td>\n",
       "    </tr>\n",
       "    <tr>\n",
       "      <th>std</th>\n",
       "      <td>9151.546169</td>\n",
       "      <td>5976.205557</td>\n",
       "      <td>3.982389</td>\n",
       "      <td>3.437726</td>\n",
       "      <td>1.112916</td>\n",
       "      <td>0.828047</td>\n",
       "    </tr>\n",
       "    <tr>\n",
       "      <th>min</th>\n",
       "      <td>11479.690000</td>\n",
       "      <td>8624.660000</td>\n",
       "      <td>2006.000000</td>\n",
       "      <td>1.000000</td>\n",
       "      <td>1.000000</td>\n",
       "      <td>28.000000</td>\n",
       "    </tr>\n",
       "    <tr>\n",
       "      <th>25%</th>\n",
       "      <td>25868.920000</td>\n",
       "      <td>15757.360000</td>\n",
       "      <td>2009.000000</td>\n",
       "      <td>3.000000</td>\n",
       "      <td>1.000000</td>\n",
       "      <td>30.000000</td>\n",
       "    </tr>\n",
       "    <tr>\n",
       "      <th>50%</th>\n",
       "      <td>33772.550000</td>\n",
       "      <td>23012.240000</td>\n",
       "      <td>2012.000000</td>\n",
       "      <td>6.000000</td>\n",
       "      <td>2.000000</td>\n",
       "      <td>31.000000</td>\n",
       "    </tr>\n",
       "    <tr>\n",
       "      <th>75%</th>\n",
       "      <td>39966.570000</td>\n",
       "      <td>25949.040000</td>\n",
       "      <td>2016.000000</td>\n",
       "      <td>9.000000</td>\n",
       "      <td>3.000000</td>\n",
       "      <td>31.000000</td>\n",
       "    </tr>\n",
       "    <tr>\n",
       "      <th>max</th>\n",
       "      <td>46618.800000</td>\n",
       "      <td>32717.300000</td>\n",
       "      <td>2019.000000</td>\n",
       "      <td>12.000000</td>\n",
       "      <td>4.000000</td>\n",
       "      <td>31.000000</td>\n",
       "    </tr>\n",
       "  </tbody>\n",
       "</table>\n",
       "</div>"
      ],
      "text/plain": [
       "             Import        Export         Year       Month     quarter  \\\n",
       "count    165.000000    165.000000   165.000000  165.000000  165.000000   \n",
       "mean   32172.849333  21185.384848  2012.381818    6.418182    2.472727   \n",
       "std     9151.546169   5976.205557     3.982389    3.437726    1.112916   \n",
       "min    11479.690000   8624.660000  2006.000000    1.000000    1.000000   \n",
       "25%    25868.920000  15757.360000  2009.000000    3.000000    1.000000   \n",
       "50%    33772.550000  23012.240000  2012.000000    6.000000    2.000000   \n",
       "75%    39966.570000  25949.040000  2016.000000    9.000000    3.000000   \n",
       "max    46618.800000  32717.300000  2019.000000   12.000000    4.000000   \n",
       "\n",
       "       Number of Days  \n",
       "count      165.000000  \n",
       "mean        30.430303  \n",
       "std          0.828047  \n",
       "min         28.000000  \n",
       "25%         30.000000  \n",
       "50%         31.000000  \n",
       "75%         31.000000  \n",
       "max         31.000000  "
      ]
     },
     "execution_count": 81,
     "metadata": {},
     "output_type": "execute_result"
    }
   ],
   "source": [
    "data.describe()"
   ]
  },
  {
   "cell_type": "code",
   "execution_count": 82,
   "metadata": {},
   "outputs": [],
   "source": [
    "df.to_csv(r'C:\\Users\\mahe\\Desktop\\Internship\\Task 7\\data_withnext3month.csv',index= False)"
   ]
  },
  {
   "cell_type": "code",
   "execution_count": null,
   "metadata": {},
   "outputs": [],
   "source": []
  }
 ],
 "metadata": {
  "kernelspec": {
   "display_name": "Python 3",
   "language": "python",
   "name": "python3"
  },
  "language_info": {
   "codemirror_mode": {
    "name": "ipython",
    "version": 3
   },
   "file_extension": ".py",
   "mimetype": "text/x-python",
   "name": "python",
   "nbconvert_exporter": "python",
   "pygments_lexer": "ipython3",
   "version": "3.8.2"
  }
 },
 "nbformat": 4,
 "nbformat_minor": 4
}
